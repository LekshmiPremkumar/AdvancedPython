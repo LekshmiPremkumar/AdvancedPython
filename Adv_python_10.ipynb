{
 "cells": [
  {
   "cell_type": "code",
   "execution_count": 31,
   "id": "bc9c5240",
   "metadata": {},
   "outputs": [],
   "source": [
    "def picture_frame(c,r,ch):\n",
    "    l=[]\n",
    "    if c<=2:\n",
    "        return \"Invalid Frame's width is not more than 2\"\n",
    "    for i in range(r):\n",
    "        if i==0 or i==r-1:\n",
    "            k=[ch*c]\n",
    "        else:\n",
    "            k=[ch+\" \"*(c-2)+ch]\n",
    "        l.append(k)\n",
    "    return l\n",
    "    "
   ]
  },
  {
   "cell_type": "code",
   "execution_count": 36,
   "id": "2a2cf25a",
   "metadata": {},
   "outputs": [
    {
     "data": {
      "text/plain": [
       "[['##########'], ['#        #'], ['##########']]"
      ]
     },
     "execution_count": 36,
     "metadata": {},
     "output_type": "execute_result"
    }
   ],
   "source": [
    "picture_frame(10,3,'#')"
   ]
  },
  {
   "cell_type": "code",
   "execution_count": 46,
   "id": "450d51b0",
   "metadata": {},
   "outputs": [],
   "source": [
    "def boolean_and(l):\n",
    "    i=1\n",
    "    while len(l)!=1:\n",
    "        l[i]=l[i] and l[i-1]\n",
    "        del l[i-1]\n",
    "        \n",
    "    return l[0]\n",
    "def boolean_or(l):\n",
    "    i=1\n",
    "    while len(l)!=1:\n",
    "        l[i]=l[i] or l[i-1]\n",
    "        del l[i-1]\n",
    "        \n",
    "    return l[0]\n",
    "\n",
    "def boolean_xor(l):\n",
    "    i=1\n",
    "    while len(l)!=1:\n",
    "        l[i]=(l[i] and not l[i-1]) or (not l[i] and l[i-1])\n",
    "        del l[i-1]\n",
    "        \n",
    "    return l[0]\n",
    "        "
   ]
  },
  {
   "cell_type": "code",
   "execution_count": 50,
   "id": "9199f980",
   "metadata": {},
   "outputs": [
    {
     "data": {
      "text/plain": [
       "False"
      ]
     },
     "execution_count": 50,
     "metadata": {},
     "output_type": "execute_result"
    }
   ],
   "source": [
    "boolean_and([True,True,False,True])"
   ]
  },
  {
   "cell_type": "code",
   "execution_count": 53,
   "id": "8e9acf07",
   "metadata": {},
   "outputs": [
    {
     "data": {
      "text/plain": [
       "True"
      ]
     },
     "execution_count": 53,
     "metadata": {},
     "output_type": "execute_result"
    }
   ],
   "source": [
    "boolean_or([True,True,False,False])"
   ]
  },
  {
   "cell_type": "code",
   "execution_count": 54,
   "id": "b1a77a91",
   "metadata": {},
   "outputs": [
    {
     "data": {
      "text/plain": [
       "False"
      ]
     },
     "execution_count": 54,
     "metadata": {},
     "output_type": "execute_result"
    }
   ],
   "source": [
    "boolean_xor([True,True,False,False])"
   ]
  },
  {
   "cell_type": "code",
   "execution_count": 61,
   "id": "830132ec",
   "metadata": {},
   "outputs": [],
   "source": [
    "def make_box(n):\n",
    "\n",
    "    l=[]\n",
    "    for i in range(n):\n",
    "        if i==0 or i==n-1:\n",
    "            k=\"#\"*(n)\n",
    "        else:\n",
    "            k=\"#\"+\" \"*(n-2)+\"#\"\n",
    "        l.append(k)\n",
    "    return l"
   ]
  },
  {
   "cell_type": "code",
   "execution_count": 64,
   "id": "d95ca2ab",
   "metadata": {},
   "outputs": [
    {
     "data": {
      "text/plain": [
       "['#####', '#   #', '#   #', '#   #', '#####']"
      ]
     },
     "execution_count": 64,
     "metadata": {},
     "output_type": "execute_result"
    }
   ],
   "source": [
    "make_box(5)"
   ]
  },
  {
   "cell_type": "code",
   "execution_count": 70,
   "id": "de3959c2",
   "metadata": {},
   "outputs": [],
   "source": [
    "def no_duplicate_letters(lis):\n",
    "    l=[]\n",
    "    n=lis.split(\" \")\n",
    "    for word in n:\n",
    "        for i in range(len(word)):\n",
    "            word=list(word)\n",
    "            if word.count(word[i])>1:\n",
    "                return False\n",
    "    return True\n",
    "            "
   ]
  },
  {
   "cell_type": "code",
   "execution_count": 75,
   "id": "ad881e1a",
   "metadata": {},
   "outputs": [
    {
     "data": {
      "text/plain": [
       "False"
      ]
     },
     "execution_count": 75,
     "metadata": {},
     "output_type": "execute_result"
    }
   ],
   "source": [
    "no_duplicate_letters(\"look before you leap\")"
   ]
  },
  {
   "cell_type": "code",
   "execution_count": 149,
   "id": "bcfa1b88",
   "metadata": {},
   "outputs": [
    {
     "data": {
      "text/plain": [
       "[', California', ', Florida']"
      ]
     },
     "execution_count": 149,
     "metadata": {},
     "output_type": "execute_result"
    }
   ],
   "source": [
    "\n",
    "import re# this is not precise. I am not able to extract just the words\n",
    "pattern=r'(?<= = yes)\\w+'\n",
    "pattern=\"(,.*?) = yes\"\n",
    "text=\"Texas = no, California = yes, Florida = yes, Michigan = no\"\n",
    "re.findall(pattern,text)"
   ]
  },
  {
   "cell_type": "code",
   "execution_count": null,
   "id": "17bccb3e",
   "metadata": {},
   "outputs": [],
   "source": []
  },
  {
   "cell_type": "code",
   "execution_count": null,
   "id": "9fec2b4c",
   "metadata": {},
   "outputs": [],
   "source": []
  }
 ],
 "metadata": {
  "kernelspec": {
   "display_name": "Python 3 (ipykernel)",
   "language": "python",
   "name": "python3"
  },
  "language_info": {
   "codemirror_mode": {
    "name": "ipython",
    "version": 3
   },
   "file_extension": ".py",
   "mimetype": "text/x-python",
   "name": "python",
   "nbconvert_exporter": "python",
   "pygments_lexer": "ipython3",
   "version": "3.9.7"
  }
 },
 "nbformat": 4,
 "nbformat_minor": 5
}
