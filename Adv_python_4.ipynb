{
 "cells": [
  {
   "cell_type": "code",
   "execution_count": 1,
   "id": "c846d834",
   "metadata": {},
   "outputs": [],
   "source": [
    "def fast_fib(n):\n",
    "    if n==1:\n",
    "        return 1\n",
    "    if n==0:\n",
    "        return 0\n",
    "    return fast_fib(n-1)+fast_fib(n-2)"
   ]
  },
  {
   "cell_type": "code",
   "execution_count": 5,
   "id": "05ba964f",
   "metadata": {},
   "outputs": [
    {
     "data": {
      "text/plain": [
       "6765"
      ]
     },
     "execution_count": 5,
     "metadata": {},
     "output_type": "execute_result"
    }
   ],
   "source": [
    "fast_fib(20)"
   ]
  },
  {
   "cell_type": "code",
   "execution_count": 9,
   "id": "9f65739b",
   "metadata": {},
   "outputs": [],
   "source": [
    "\n",
    "def convert2hex(s):\n",
    "    l=list(s)\n",
    "    ans=\"\"\n",
    "    for i in range(len(l)):\n",
    "        n=ord(l[i])\n",
    "        dictkey={0:0,1:1,2:2,3:3,4:4,5:5,6:6,7:7,8:8,9:9,10:\"A\",11:\"B\",12:\"C\",13:\"D\",14:\"E\",15:\"F\"}\n",
    "    \n",
    "        s=\"\"\n",
    "        \n",
    "        while(n!=0):\n",
    "            s=str(dictkey[n%16])+s\n",
    "            n=n//16\n",
    "            #print(n)\n",
    "        ans=ans+\" \"+s\n",
    "    return ans\n",
    "        "
   ]
  },
  {
   "cell_type": "code",
   "execution_count": 10,
   "id": "42a8539d",
   "metadata": {},
   "outputs": [
    {
     "data": {
      "text/plain": [
       "' 42 69 67 20 42 6F 69'"
      ]
     },
     "execution_count": 10,
     "metadata": {},
     "output_type": "execute_result"
    }
   ],
   "source": [
    "convert2hex(\"Big Boi\")"
   ]
  },
  {
   "cell_type": "code",
   "execution_count": 13,
   "id": "c07ed116",
   "metadata": {},
   "outputs": [],
   "source": [
    "def uncensor(n,l):\n",
    "    s=list(n)\n",
    "    a=list(l)\n",
    "    j=0\n",
    "    for i in range(len(s)):\n",
    "        if s[i]==\"*\":\n",
    "            s[i]=a[j]\n",
    "            j+=1\n",
    "    return (\"\").join(s)\n",
    "        "
   ]
  },
  {
   "cell_type": "code",
   "execution_count": 14,
   "id": "8b01022b",
   "metadata": {},
   "outputs": [
    {
     "data": {
      "text/plain": [
       "'UPPERCASE'"
      ]
     },
     "execution_count": 14,
     "metadata": {},
     "output_type": "execute_result"
    }
   ],
   "source": [
    "uncensor(\"*PP*RC*S*\", \"UEAE\")"
   ]
  },
  {
   "cell_type": "code",
   "execution_count": 21,
   "id": "f7da547a",
   "metadata": {},
   "outputs": [],
   "source": [
    "import socket\n",
    "\n",
    "def getDomain(n):\n",
    "    return socket.gethostbyaddr(n)[0]"
   ]
  },
  {
   "cell_type": "code",
   "execution_count": 24,
   "id": "c5dc0945",
   "metadata": {},
   "outputs": [
    {
     "data": {
      "text/plain": [
       "'kul08s09-in-f4.1e100.net'"
      ]
     },
     "execution_count": 24,
     "metadata": {},
     "output_type": "execute_result"
    }
   ],
   "source": [
    "getDomain('216.58.196.4')"
   ]
  },
  {
   "cell_type": "code",
   "execution_count": null,
   "id": "197e59a1",
   "metadata": {},
   "outputs": [],
   "source": []
  }
 ],
 "metadata": {
  "kernelspec": {
   "display_name": "Python 3 (ipykernel)",
   "language": "python",
   "name": "python3"
  },
  "language_info": {
   "codemirror_mode": {
    "name": "ipython",
    "version": 3
   },
   "file_extension": ".py",
   "mimetype": "text/x-python",
   "name": "python",
   "nbconvert_exporter": "python",
   "pygments_lexer": "ipython3",
   "version": "3.9.7"
  }
 },
 "nbformat": 4,
 "nbformat_minor": 5
}
