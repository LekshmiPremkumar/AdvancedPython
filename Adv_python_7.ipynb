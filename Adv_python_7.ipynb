{
 "cells": [
  {
   "cell_type": "code",
   "execution_count": 10,
   "id": "5d89a9a8",
   "metadata": {},
   "outputs": [],
   "source": [
    "import re\n",
    "def uniquestyles(n):\n",
    "    l=[]\n",
    "    for i in n:\n",
    "        if re.search(\",\",i):\n",
    "            for j in i.split(\",\"):\n",
    "                l.append(j)\n",
    "        else:\n",
    "            l.append(i)\n",
    "            \n",
    "    return len(set(l))"
   ]
  },
  {
   "cell_type": "code",
   "execution_count": 11,
   "id": "f07332b2",
   "metadata": {},
   "outputs": [
    {
     "data": {
      "text/plain": [
       "7"
      ]
     },
     "execution_count": 11,
     "metadata": {},
     "output_type": "execute_result"
    }
   ],
   "source": [
    "n=[\"Soul\",\n",
    "\"House,Folk\",\n",
    "\"Trance,Downtempo,Big Beat,House\",\n",
    "\"Deep House\",\n",
    "\"Soul\"]\n",
    "uniquestyles(n)"
   ]
  },
  {
   "cell_type": "code",
   "execution_count": 64,
   "id": "d659ab6c",
   "metadata": {},
   "outputs": [],
   "source": [
    "def is_primes(n,key,l,r):\n",
    "    if l<=r:\n",
    "        i=l+(r-l)//2\n",
    "        #print(i,l,r)\n",
    "        if n[i]==key:\n",
    "            return i\n",
    "        elif n[i]>key:\n",
    "            return is_primes(n,key,l,i-1)\n",
    "        else:\n",
    "            return is_primes(n,key,i+1,r)\n",
    "    else:\n",
    "        return -1\n",
    "\n",
    "\n",
    "        \n",
    "\n",
    "\n",
    "    \n",
    "    "
   ]
  },
  {
   "cell_type": "code",
   "execution_count": 67,
   "id": "7f4dfd4e",
   "metadata": {},
   "outputs": [
    {
     "name": "stdout",
     "output_type": "stream",
     "text": [
      "no\n"
     ]
    }
   ],
   "source": [
    "n=[2, 3, 5, 7, 11, 13, 17, 19, 23, 29, 31, 37, 41, 43, 47, 53, 59, 61, 67, 71, 73, 79, 83, 89, 97]\n",
    "key=15\n",
    "y=is_primes(n,key,0,len(n))\n",
    "\n",
    "if y ==-1:\n",
    "    print (\"no\")\n",
    "else:\n",
    "    print(\"yes\")\n"
   ]
  },
  {
   "cell_type": "code",
   "execution_count": 82,
   "id": "500f5c04",
   "metadata": {},
   "outputs": [],
   "source": [
    "def power_ranger(n,st,en):\n",
    "    l=[]\n",
    "    for i in range(st,en):\n",
    "        k=(pow(i,(1/n)))\n",
    "        if pow(int(k),n)==i:\n",
    "            l.append(i)\n",
    "       \n",
    "    return len(l)\n",
    "    "
   ]
  },
  {
   "cell_type": "code",
   "execution_count": 83,
   "id": "bf5faded",
   "metadata": {},
   "outputs": [
    {
     "data": {
      "text/plain": [
       "3"
      ]
     },
     "execution_count": 83,
     "metadata": {},
     "output_type": "execute_result"
    }
   ],
   "source": [
    "power_ranger(4,250,1300)"
   ]
  },
  {
   "cell_type": "code",
   "execution_count": 169,
   "id": "8a105ed0",
   "metadata": {},
   "outputs": [],
   "source": [
    "def diff(n):\n",
    "    l=[]\n",
    "    while(n!=0):\n",
    "        l.append(n%10)\n",
    "        n=n//10\n",
    "    l2=l.copy()\n",
    "    \n",
    "    ma=\"\"\n",
    "    while(len(l)!=0):\n",
    "        ma+=str(max(l))\n",
    "        l.remove(max(l))\n",
    "   \n",
    "    mi=\"\"\n",
    "  \n",
    "    while(len(l2)!=0):\n",
    "        mi+=str(min(l2))\n",
    "        l2.remove(min(l2))\n",
    "       \n",
    "    \n",
    "    #print(ma,mi)\n",
    "    return int(ma)-int(mi)\n",
    "    \n",
    "    "
   ]
  },
  {
   "cell_type": "code",
   "execution_count": 170,
   "id": "c5c19cce",
   "metadata": {},
   "outputs": [
    {
     "data": {
      "text/plain": [
       "760833"
      ]
     },
     "execution_count": 170,
     "metadata": {},
     "output_type": "execute_result"
    }
   ],
   "source": [
    "diff(972882)"
   ]
  },
  {
   "cell_type": "code",
   "execution_count": 186,
   "id": "977c187c",
   "metadata": {},
   "outputs": [],
   "source": [
    "\n",
    "            \n",
    "            "
   ]
  },
  {
   "cell_type": "code",
   "execution_count": 188,
   "id": "bf6e5bfe",
   "metadata": {},
   "outputs": [
    {
     "data": {
      "text/plain": [
       "True"
      ]
     },
     "execution_count": 188,
     "metadata": {},
     "output_type": "execute_result"
    }
   ],
   "source": []
  },
  {
   "cell_type": "code",
   "execution_count": null,
   "id": "6d16a6c7",
   "metadata": {},
   "outputs": [],
   "source": []
  }
 ],
 "metadata": {
  "kernelspec": {
   "display_name": "Python 3 (ipykernel)",
   "language": "python",
   "name": "python3"
  },
  "language_info": {
   "codemirror_mode": {
    "name": "ipython",
    "version": 3
   },
   "file_extension": ".py",
   "mimetype": "text/x-python",
   "name": "python",
   "nbconvert_exporter": "python",
   "pygments_lexer": "ipython3",
   "version": "3.9.7"
  }
 },
 "nbformat": 4,
 "nbformat_minor": 5
}
