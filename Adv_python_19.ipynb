{
 "cells": [
  {
   "cell_type": "code",
   "execution_count": 29,
   "id": "1977dc83",
   "metadata": {},
   "outputs": [],
   "source": [
    "def checkerboard(n,a,b):\n",
    "    A=[[0 for i in range(n)] for j in range(n)]\n",
    "    k=0\n",
    "    for i in range(n):\n",
    "        if i%2==0:\n",
    "            k=0\n",
    "        else:\n",
    "            k=1\n",
    "            \n",
    "        for j in range(n):\n",
    "            if k==0 :\n",
    "                A[i][j]= a\n",
    "                k=1\n",
    "            elif k==1:\n",
    "                A[i][j]=b\n",
    "                k=0\n",
    "    return A        \n",
    "    "
   ]
  },
  {
   "cell_type": "code",
   "execution_count": 34,
   "id": "104a2d91",
   "metadata": {},
   "outputs": [
    {
     "data": {
      "text/plain": [
       "[[7, 6, 7, 6], [6, 7, 6, 7], [7, 6, 7, 6], [6, 7, 6, 7]]"
      ]
     },
     "execution_count": 34,
     "metadata": {},
     "output_type": "execute_result"
    }
   ],
   "source": [
    "checkerboard(4,7,6)"
   ]
  },
  {
   "cell_type": "code",
   "execution_count": 44,
   "id": "0c755b9b",
   "metadata": {},
   "outputs": [],
   "source": [
    "def almost_palindrome(l):\n",
    "    c=0\n",
    "    n=list(l)\n",
    "    for i in range(int(len(n)/2)):\n",
    "        if n[i]!=n[len(n)-i-1]:\n",
    "            c+=1\n",
    "    \n",
    "    if c==1:\n",
    "        return True\n",
    "    else:\n",
    "        return False\n",
    "        "
   ]
  },
  {
   "cell_type": "code",
   "execution_count": 45,
   "id": "c4cde609",
   "metadata": {},
   "outputs": [
    {
     "data": {
      "text/plain": [
       "True"
      ]
     },
     "execution_count": 45,
     "metadata": {},
     "output_type": "execute_result"
    }
   ],
   "source": [
    "almost_palindrome(\"abmda\")"
   ]
  },
  {
   "cell_type": "code",
   "execution_count": 51,
   "id": "3ef57ad8",
   "metadata": {},
   "outputs": [],
   "source": [
    "def prime_nos(n):\n",
    "    l=[]\n",
    "    \n",
    "    for i in range(2,n+1):\n",
    "        f=0\n",
    "        for j in range(2,(int(i/2)+1)):\n",
    "            if i%j==0:\n",
    "                f=1\n",
    "        if f==0:\n",
    "            l.append(i)\n",
    "            f=0\n",
    "    return len(l)"
   ]
  },
  {
   "cell_type": "code",
   "execution_count": 52,
   "id": "79b91666",
   "metadata": {},
   "outputs": [
    {
     "data": {
      "text/plain": [
       "8"
      ]
     },
     "execution_count": 52,
     "metadata": {},
     "output_type": "execute_result"
    }
   ],
   "source": [
    "prime_nos(20)"
   ]
  },
  {
   "cell_type": "code",
   "execution_count": 85,
   "id": "199c47f2",
   "metadata": {},
   "outputs": [],
   "source": [
    "def after_n_days(l,n):\n",
    "    days=[\"sunday\",\"monday\",\"tuesday\",\"wednesday\",\"thursday\",\"friday\",\"saturday\"]\n",
    "    lis=[]\n",
    "    for i in l:\n",
    "        k=i.lower()\n",
    "        t=days.index(k)\n",
    "        n=n%7\n",
    "        ind=t+n-7\n",
    "        lis.append(days[ind])\n",
    "    return lis\n",
    "    \n",
    " \n"
   ]
  },
  {
   "cell_type": "code",
   "execution_count": 86,
   "id": "5f6b1f72",
   "metadata": {},
   "outputs": [
    {
     "data": {
      "text/plain": [
       "['monday', 'friday']"
      ]
     },
     "execution_count": 86,
     "metadata": {},
     "output_type": "execute_result"
    }
   ],
   "source": [
    "after_n_days([\"Thursday\", \"Monday\"], 4)"
   ]
  },
  {
   "cell_type": "code",
   "execution_count": 70,
   "id": "bf3cfbfa",
   "metadata": {},
   "outputs": [],
   "source": [
    "def is_correct_aliases(l1,l2):\n",
    "    for i in range(len(l1)):\n",
    "        k=l2[i].split(\" \")\n",
    "        #print(k)\n",
    "        for j in k:\n",
    "            #print(j)\n",
    "            if j[0]!=l1[i][0]:\n",
    "                return False\n",
    "    return True\n",
    "\n",
    "                "
   ]
  },
  {
   "cell_type": "code",
   "execution_count": 71,
   "id": "4729678f",
   "metadata": {},
   "outputs": [
    {
     "data": {
      "text/plain": [
       "False"
      ]
     },
     "execution_count": 71,
     "metadata": {},
     "output_type": "execute_result"
    }
   ],
   "source": [
    "is_correct_aliases([\"Ram P.\", \"Sam C.\",\"Dan K.\"],[\"Ramu Rau\",\"Sami Son\",\"Dani Ein\"])"
   ]
  },
  {
   "cell_type": "code",
   "execution_count": null,
   "id": "9609e029",
   "metadata": {},
   "outputs": [],
   "source": []
  }
 ],
 "metadata": {
  "kernelspec": {
   "display_name": "Python 3 (ipykernel)",
   "language": "python",
   "name": "python3"
  },
  "language_info": {
   "codemirror_mode": {
    "name": "ipython",
    "version": 3
   },
   "file_extension": ".py",
   "mimetype": "text/x-python",
   "name": "python",
   "nbconvert_exporter": "python",
   "pygments_lexer": "ipython3",
   "version": "3.9.7"
  }
 },
 "nbformat": 4,
 "nbformat_minor": 5
}
