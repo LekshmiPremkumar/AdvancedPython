{
 "cells": [
  {
   "cell_type": "code",
   "execution_count": 26,
   "id": "ac37d93a",
   "metadata": {},
   "outputs": [],
   "source": [
    "def valid_rondo(lis):\n",
    "    n=list(lis)\n",
    "    \n",
    "    l=[]\n",
    "    \n",
    "    if len(n)==1 or len(n)%2==0:\n",
    "        \n",
    "        return False\n",
    "    else:\n",
    "        for i in range(len(n)):\n",
    "            if i%2==0:\n",
    "                if ord(\"A\")!=ord(n[i]):\n",
    "                    return False\n",
    "            elif ord(n[i]) not in l:\n",
    "                l.append(ord(n[i]))\n",
    "            else:\n",
    "                return False\n",
    "    return True\n",
    "                    \n",
    "                \n",
    "                "
   ]
  },
  {
   "cell_type": "code",
   "execution_count": 32,
   "id": "53a1af05",
   "metadata": {},
   "outputs": [
    {
     "data": {
      "text/plain": [
       "False"
      ]
     },
     "execution_count": 32,
     "metadata": {},
     "output_type": "execute_result"
    }
   ],
   "source": [
    "valid_rondo(\"ACABAEAIAOAOA\")"
   ]
  },
  {
   "cell_type": "code",
   "execution_count": 40,
   "id": "40a261c5",
   "metadata": {},
   "outputs": [],
   "source": [
    "def sentence_searcher(txt,word):\n",
    "    l=txt.split(\".\")\n",
    "    for i in l:\n",
    "        j=i.lower()\n",
    "        y=j.split(\" \")\n",
    "        if word in y:\n",
    "            return i\n",
    "          "
   ]
  },
  {
   "cell_type": "code",
   "execution_count": 41,
   "id": "183f433b",
   "metadata": {},
   "outputs": [
    {
     "data": {
      "text/plain": [
       "' Things are going swell'"
      ]
     },
     "execution_count": 41,
     "metadata": {},
     "output_type": "execute_result"
    }
   ],
   "source": [
    "txt = \"I have a cat. I have a mat. Things are going swell.\"\n",
    "sentence_searcher(txt,\"things\")"
   ]
  },
  {
   "cell_type": "code",
   "execution_count": 66,
   "id": "42179dba",
   "metadata": {},
   "outputs": [],
   "source": [
    "def sum_round(n):\n",
    "    i=10\n",
    "    if n%10==0:\n",
    "        c=\"\"\n",
    "    else:\n",
    "        c=str(n%10)\n",
    "    n=n//10\n",
    "    while n!=0:\n",
    "        y=n%10\n",
    "        c=c+\" \"+str(y*i)\n",
    "        i*=10\n",
    "        n=n//10\n",
    "    return c\n",
    "        \n",
    "        "
   ]
  },
  {
   "cell_type": "code",
   "execution_count": 67,
   "id": "61e0753c",
   "metadata": {},
   "outputs": [
    {
     "data": {
      "text/plain": [
       "' 10 200 4000 50000'"
      ]
     },
     "execution_count": 67,
     "metadata": {},
     "output_type": "execute_result"
    }
   ],
   "source": [
    "sum_round(54210)"
   ]
  },
  {
   "cell_type": "code",
   "execution_count": 74,
   "id": "167f0263",
   "metadata": {},
   "outputs": [],
   "source": [
    "def multiplication_table(n):\n",
    "    l=[[0 for j in range(n)] for i in range(n)]\n",
    "    for i in range(1,n+1):\n",
    "        l[i-1]=[j*(i) for j in range(1,n+1)]\n",
    "    return l"
   ]
  },
  {
   "cell_type": "code",
   "execution_count": 77,
   "id": "0cefe335",
   "metadata": {},
   "outputs": [
    {
     "data": {
      "text/plain": [
       "[[1, 2, 3, 4, 5],\n",
       " [2, 4, 6, 8, 10],\n",
       " [3, 6, 9, 12, 15],\n",
       " [4, 8, 12, 16, 20],\n",
       " [5, 10, 15, 20, 25]]"
      ]
     },
     "execution_count": 77,
     "metadata": {},
     "output_type": "execute_result"
    }
   ],
   "source": [
    "multiplication_table(5)"
   ]
  },
  {
   "cell_type": "code",
   "execution_count": 70,
   "id": "d7b1ba7a",
   "metadata": {},
   "outputs": [
    {
     "data": {
      "text/plain": [
       "[[0, 0], [0, 0]]"
      ]
     },
     "execution_count": 70,
     "metadata": {},
     "output_type": "execute_result"
    }
   ],
   "source": [
    "l"
   ]
  },
  {
   "cell_type": "code",
   "execution_count": 96,
   "id": "026de394",
   "metadata": {},
   "outputs": [],
   "source": [
    "import string\n",
    "def does_rhyme(a,b):\n",
    "    a=a.replace(\" \",\"\")\n",
    "    b=b.replace(\" \",\"\")\n",
    "  \n",
    "    for i in a:\n",
    "        if i in string.punctuation:\n",
    "            a=a.replace(i,\"\")\n",
    "    for i in b:\n",
    "        if i in string.punctuation:\n",
    "            b=b.replace(i,\"\")\n",
    "   \n",
    "    if a[-2:]==b[-2:]:\n",
    "        return True\n",
    "    else:\n",
    "        return False\n",
    "    \n",
    "    "
   ]
  },
  {
   "cell_type": "code",
   "execution_count": 100,
   "id": "7662852a",
   "metadata": {},
   "outputs": [
    {
     "data": {
      "text/plain": [
       "True"
      ]
     },
     "execution_count": 100,
     "metadata": {},
     "output_type": "execute_result"
    }
   ],
   "source": [
    "does_rhyme(\"Sam I am!@!\", \"Green eggs and ham.\")"
   ]
  },
  {
   "cell_type": "code",
   "execution_count": null,
   "id": "978f49c3",
   "metadata": {},
   "outputs": [],
   "source": []
  },
  {
   "cell_type": "code",
   "execution_count": null,
   "id": "cff56cfa",
   "metadata": {},
   "outputs": [],
   "source": []
  }
 ],
 "metadata": {
  "kernelspec": {
   "display_name": "Python 3 (ipykernel)",
   "language": "python",
   "name": "python3"
  },
  "language_info": {
   "codemirror_mode": {
    "name": "ipython",
    "version": 3
   },
   "file_extension": ".py",
   "mimetype": "text/x-python",
   "name": "python",
   "nbconvert_exporter": "python",
   "pygments_lexer": "ipython3",
   "version": "3.9.7"
  }
 },
 "nbformat": 4,
 "nbformat_minor": 5
}
