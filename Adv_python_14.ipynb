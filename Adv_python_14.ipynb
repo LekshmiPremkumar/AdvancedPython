{
 "cells": [
  {
   "cell_type": "code",
   "execution_count": 11,
   "id": "eaa65f5e",
   "metadata": {},
   "outputs": [],
   "source": [
    "def show_the_love(n):\n",
    "    y=min(n)\n",
    "    s=0\n",
    "    for i in range(len(n)):\n",
    "        if n[i]!=y:\n",
    "            s=s+0.25*n[i]\n",
    "            n[i]=0.75*n[i]\n",
    "    ind=n.index(y)\n",
    "    n[ind]=n[ind]+s\n",
    "    return n\n",
    "        "
   ]
  },
  {
   "cell_type": "code",
   "execution_count": 15,
   "id": "8449377a",
   "metadata": {},
   "outputs": [
    {
     "data": {
      "text/plain": [
       "[27.0, 75.0]"
      ]
     },
     "execution_count": 15,
     "metadata": {},
     "output_type": "execute_result"
    }
   ],
   "source": [
    "show_the_love([2,100])"
   ]
  },
  {
   "cell_type": "code",
   "execution_count": 35,
   "id": "4d45b420",
   "metadata": {},
   "outputs": [],
   "source": [
    "def letters(a,b):\n",
    "    A=list(a)\n",
    "    B=list(b)\n",
    "    l=[]\n",
    "    for i in A:\n",
    "        if i in B:\n",
    "            l.append(i)\n",
    "    for i in l:\n",
    "        A.remove(i)\n",
    "        B.remove(i)\n",
    "    return (\"\").join(l),(\"\").join(A),(\"\").join(B)\n",
    "    "
   ]
  },
  {
   "cell_type": "code",
   "execution_count": 36,
   "id": "73ce6527",
   "metadata": {},
   "outputs": [
    {
     "data": {
      "text/plain": [
       "('sap', 'hr', 'o')"
      ]
     },
     "execution_count": 36,
     "metadata": {},
     "output_type": "execute_result"
    }
   ],
   "source": [
    "letters(\"sharp\",\"soap\")"
   ]
  },
  {
   "cell_type": "code",
   "execution_count": 56,
   "id": "183f218f",
   "metadata": {},
   "outputs": [],
   "source": [
    "def pairs(n):\n",
    "    l=[]\n",
    "    for i in range(int(len(n)/2)):\n",
    "        l.append([n[i],n[len(n)-1-i]])\n",
    "    return l"
   ]
  },
  {
   "cell_type": "code",
   "execution_count": 57,
   "id": "f95ad37e",
   "metadata": {},
   "outputs": [
    {
     "data": {
      "text/plain": [
       "[[1, 4], [2, 3]]"
      ]
     },
     "execution_count": 57,
     "metadata": {},
     "output_type": "execute_result"
    }
   ],
   "source": [
    "pairs([1,2,3,4])"
   ]
  },
  {
   "cell_type": "code",
   "execution_count": 59,
   "id": "82bf30a4",
   "metadata": {},
   "outputs": [],
   "source": [
    "def add_str_nums(a,b):\n",
    "    try:\n",
    "        return int(a)+int(b)\n",
    "    except:\n",
    "        return -1"
   ]
  },
  {
   "cell_type": "code",
   "execution_count": 61,
   "id": "541a248f",
   "metadata": {},
   "outputs": [
    {
     "data": {
      "text/plain": [
       "-1"
      ]
     },
     "execution_count": 61,
     "metadata": {},
     "output_type": "execute_result"
    }
   ],
   "source": [
    "add_str_nums(\"abc\",\"2\")"
   ]
  },
  {
   "cell_type": "code",
   "execution_count": null,
   "id": "e51f66a3",
   "metadata": {},
   "outputs": [],
   "source": []
  }
 ],
 "metadata": {
  "kernelspec": {
   "display_name": "Python 3 (ipykernel)",
   "language": "python",
   "name": "python3"
  },
  "language_info": {
   "codemirror_mode": {
    "name": "ipython",
    "version": 3
   },
   "file_extension": ".py",
   "mimetype": "text/x-python",
   "name": "python",
   "nbconvert_exporter": "python",
   "pygments_lexer": "ipython3",
   "version": "3.9.7"
  }
 },
 "nbformat": 4,
 "nbformat_minor": 5
}
