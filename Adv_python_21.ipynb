{
 "cells": [
  {
   "cell_type": "code",
   "execution_count": 8,
   "id": "4b0cca9f",
   "metadata": {},
   "outputs": [],
   "source": [
    "import string\n",
    "def count_same_ends(n):\n",
    "\n",
    "    c=0\n",
    "    for i in n:\n",
    "        if i in string.punctuation:\n",
    "            n=n.replace(i,\"\")\n",
    "    y=n.split(\" \")\n",
    "    for i in y:\n",
    "        i=i.lower()\n",
    "        if i[0]==i[-1]:\n",
    "            c+=1\n",
    "    return c\n",
    "        "
   ]
  },
  {
   "cell_type": "code",
   "execution_count": 12,
   "id": "9c3d0d13",
   "metadata": {},
   "outputs": [
    {
     "data": {
      "text/plain": [
       "1"
      ]
     },
     "execution_count": 12,
     "metadata": {},
     "output_type": "execute_result"
    }
   ],
   "source": [
    "count_same_ends(\"Pop! goes the balloon\")"
   ]
  },
  {
   "cell_type": "code",
   "execution_count": 34,
   "id": "c4f736d0",
   "metadata": {},
   "outputs": [],
   "source": [
    "def atbash(n):\n",
    "    lis=list(n)\n",
    "    new=[]\n",
    "    for i in lis:\n",
    "        if ord(i) in range(97,123):\n",
    "            k=ord(i)\n",
    "            new.append(chr(ord(\"z\")-(k-ord(\"a\"))))\n",
    "        elif ord(i) in range(65,91):\n",
    "            k=ord(i)\n",
    "            new.append(chr(ord(\"Z\")-(k-ord(\"A\"))))\n",
    "        else:\n",
    "            new.append(i)\n",
    "    return (\"\").join(new)\n",
    "            \n",
    "            "
   ]
  },
  {
   "cell_type": "code",
   "execution_count": 36,
   "id": "b39a1c72",
   "metadata": {},
   "outputs": [
    {
     "data": {
      "text/plain": [
       "'Svool 25 wvxvnyvi!'"
      ]
     },
     "execution_count": 36,
     "metadata": {},
     "output_type": "execute_result"
    }
   ],
   "source": [
    "atbash(\"Hello 25 december!\")"
   ]
  },
  {
   "cell_type": "code",
   "execution_count": null,
   "id": "e90f0cfd",
   "metadata": {},
   "outputs": [],
   "source": [
    "def Employees()"
   ]
  },
  {
   "cell_type": "code",
   "execution_count": 64,
   "id": "c57cc077",
   "metadata": {},
   "outputs": [],
   "source": [
    "class Employees:\n",
    "    def __init__(self,name,**kwargs):\n",
    "        self.name=name\n",
    "        for self.key,self.value in kwargs.items():\n",
    "            key=self.value\n",
    "            print(self.name,self.key,self.value)\n",
    "    \n",
    "    \n",
    "            \n",
    "        \n",
    "        "
   ]
  },
  {
   "cell_type": "code",
   "execution_count": 65,
   "id": "1f43a1d2",
   "metadata": {},
   "outputs": [
    {
     "name": "stdout",
     "output_type": "stream",
     "text": [
      "Sam salary 11200000\n",
      "Sam height 161\n"
     ]
    }
   ],
   "source": [
    "sr=Employees(\"Sam\",salary=11200000,height=161)"
   ]
  },
  {
   "cell_type": "code",
   "execution_count": 69,
   "id": "749976ab",
   "metadata": {},
   "outputs": [
    {
     "ename": "TypeError",
     "evalue": "'str' object is not callable",
     "output_type": "error",
     "traceback": [
      "\u001b[0;31m---------------------------------------------------------------------------\u001b[0m",
      "\u001b[0;31mTypeError\u001b[0m                                 Traceback (most recent call last)",
      "\u001b[0;32m/var/folders/gb/f3p9f4v121q_wkpg_wxw1z680000gq/T/ipykernel_3370/1203083810.py\u001b[0m in \u001b[0;36m<module>\u001b[0;34m\u001b[0m\n\u001b[0;32m----> 1\u001b[0;31m \u001b[0msr\u001b[0m\u001b[0;34m.\u001b[0m\u001b[0mname\u001b[0m\u001b[0;34m(\u001b[0m\u001b[0;34m)\u001b[0m\u001b[0;34m\u001b[0m\u001b[0;34m\u001b[0m\u001b[0m\n\u001b[0m",
      "\u001b[0;31mTypeError\u001b[0m: 'str' object is not callable"
     ]
    }
   ],
   "source": [
    "sr.name()"
   ]
  },
  {
   "cell_type": "code",
   "execution_count": 152,
   "id": "c3ef6c1d",
   "metadata": {},
   "outputs": [],
   "source": [
    "def can_see_stage(A):\n",
    "    r=len(A)\n",
    "    c=len(A[0])\n",
    "    for i in range(c-1,-1,-1):\n",
    "        for j in range(r-1,0,-1):\n",
    "            if A[j][i]<A[j-1][i]:\n",
    "                #print(f' A[{j}][{i}]<A[{j-1}][{i}]=== {A[j][i]}>{A[j-1][i]}')\n",
    "                return False\n",
    "    return True"
   ]
  },
  {
   "cell_type": "code",
   "execution_count": 153,
   "id": "e4ebdefb",
   "metadata": {},
   "outputs": [
    {
     "data": {
      "text/plain": [
       "True"
      ]
     },
     "execution_count": 153,
     "metadata": {},
     "output_type": "execute_result"
    }
   ],
   "source": [
    "can_see_stage([\n",
    "[11, 0, 13],\n",
    "[12, 11, 14],\n",
    "[17, 18, 19]\n",
    "])"
   ]
  },
  {
   "cell_type": "code",
   "execution_count": 223,
   "id": "4c501d21",
   "metadata": {},
   "outputs": [],
   "source": [
    "\n",
    "    "
   ]
  },
  {
   "cell_type": "code",
   "execution_count": 224,
   "id": "ad79b43a",
   "metadata": {},
   "outputs": [],
   "source": []
  },
  {
   "cell_type": "code",
   "execution_count": null,
   "id": "113a5399",
   "metadata": {},
   "outputs": [],
   "source": []
  }
 ],
 "metadata": {
  "kernelspec": {
   "display_name": "Python 3 (ipykernel)",
   "language": "python",
   "name": "python3"
  },
  "language_info": {
   "codemirror_mode": {
    "name": "ipython",
    "version": 3
   },
   "file_extension": ".py",
   "mimetype": "text/x-python",
   "name": "python",
   "nbconvert_exporter": "python",
   "pygments_lexer": "ipython3",
   "version": "3.9.7"
  }
 },
 "nbformat": 4,
 "nbformat_minor": 5
}
