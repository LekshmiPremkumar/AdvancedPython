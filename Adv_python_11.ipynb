{
 "cells": [
  {
   "cell_type": "code",
   "execution_count": 14,
   "id": "e1846168",
   "metadata": {},
   "outputs": [],
   "source": [
    "def filter_prime(n):\n",
    "    l=[]\n",
    "    \n",
    "    for i in n:\n",
    "        f=1\n",
    "        for j in range(2,int(i/2)+1):\n",
    "            if i%j==0:\n",
    "                f=0\n",
    "        if f==1:\n",
    "            l.append(i)\n",
    "        \n",
    "    return l"
   ]
  },
  {
   "cell_type": "code",
   "execution_count": 15,
   "id": "602b4128",
   "metadata": {},
   "outputs": [
    {
     "data": {
      "text/plain": [
       "[7, 3, 11]"
      ]
     },
     "execution_count": 15,
     "metadata": {},
     "output_type": "execute_result"
    }
   ],
   "source": [
    "filter_prime([7, 9, 3, 9, 10, 11, 27])"
   ]
  },
  {
   "cell_type": "code",
   "execution_count": 103,
   "id": "05e061bd",
   "metadata": {},
   "outputs": [
    {
     "data": {
      "text/plain": [
       "3"
      ]
     },
     "execution_count": 103,
     "metadata": {},
     "output_type": "execute_result"
    }
   ],
   "source": [
    "int(7/2)"
   ]
  },
  {
   "cell_type": "code",
   "execution_count": 116,
   "id": "58c2420d",
   "metadata": {},
   "outputs": [],
   "source": [
    "def pop(n):\n",
    "    for i in range(int(len(n)/2)+1):\n",
    "        n[i]=i\n",
    "        n[len(n)-1-i]=i\n",
    "    return n\n",
    "                  \n",
    "    "
   ]
  },
  {
   "cell_type": "code",
   "execution_count": 118,
   "id": "6fa31ee9",
   "metadata": {},
   "outputs": [
    {
     "data": {
      "text/plain": [
       "[0, 1, 2, 3, 4, 3, 2, 1, 0]"
      ]
     },
     "execution_count": 118,
     "metadata": {},
     "output_type": "execute_result"
    }
   ],
   "source": [
    "pop([0,0,0,0,4,0,0,0,0])"
   ]
  },
  {
   "cell_type": "code",
   "execution_count": 20,
   "id": "a362dbab",
   "metadata": {},
   "outputs": [],
   "source": [
    "def loves_me(n):\n",
    "    y=\"\"\n",
    "    for i in range(1,n):\n",
    "        if i%2==0:\n",
    "            y+=\"Loves me not, \"\n",
    "        else:\n",
    "            y+=\"Loves me, \"\n",
    "    if n%2==0:\n",
    "        y+=\"LOVES ME NOT\"\n",
    "    else:\n",
    "        y+=\"LOVES ME\"\n",
    "    return y"
   ]
  },
  {
   "cell_type": "code",
   "execution_count": 22,
   "id": "fcef3469",
   "metadata": {},
   "outputs": [
    {
     "data": {
      "text/plain": [
       "'Loves me, Loves me not, Loves me, Loves me not, Loves me, LOVES ME NOT'"
      ]
     },
     "execution_count": 22,
     "metadata": {},
     "output_type": "execute_result"
    }
   ],
   "source": [
    "loves_me(6)"
   ]
  },
  {
   "cell_type": "code",
   "execution_count": 72,
   "id": "932ad98c",
   "metadata": {},
   "outputs": [],
   "source": [
    "import re\n",
    "def sort_by_letter(n):\n",
    "    d={}\n",
    "    l=[]\n",
    "    for i in n:\n",
    "        pattern =re.compile(r'[a-z]')\n",
    "        matches= pattern.findall(i)\n",
    "        for match in matches:\n",
    "            if match not in d:\n",
    "                d[match]=i\n",
    "    y=sorted(list(d.keys()))\n",
    "    for i in y:\n",
    "        l.append(d[i])\n",
    "    return l\n",
    "            \n",
    "        "
   ]
  },
  {
   "cell_type": "code",
   "execution_count": 73,
   "id": "6d87cbb2",
   "metadata": {},
   "outputs": [
    {
     "data": {
      "text/plain": [
       "['123a32', '123e44', '6t', '123w34', '123y52']"
      ]
     },
     "execution_count": 73,
     "metadata": {},
     "output_type": "execute_result"
    }
   ],
   "source": [
    "sort_by_letter([\"123e44\",\"123w34\",\"123y52\",\"123a32\",\"6t\"])"
   ]
  },
  {
   "cell_type": "code",
   "execution_count": 99,
   "id": "fbf1f234",
   "metadata": {},
   "outputs": [],
   "source": [
    "def cup_swap(n):\n",
    "    #d={\"A\":0,\"B\":1,\"C\":0}\n",
    "    F='B'\n",
    "    for i in n:\n",
    "        y=list(i)\n",
    "        if F in y:\n",
    "            \n",
    "            for j in y:\n",
    "                if F!=j:\n",
    "                    #d[F]=0\n",
    "                    F=j\n",
    "                    #d[F]=1\n",
    "                    \n",
    "                    break\n",
    "    return F\n",
    "        \n",
    "    "
   ]
  },
  {
   "cell_type": "code",
   "execution_count": 101,
   "id": "00df1e40",
   "metadata": {},
   "outputs": [
    {
     "data": {
      "text/plain": [
       "'A'"
      ]
     },
     "execution_count": 101,
     "metadata": {},
     "output_type": "execute_result"
    }
   ],
   "source": [
    "cup_swap([\"AB\",\"CA\",\"AB\",\"AC\"])"
   ]
  },
  {
   "cell_type": "code",
   "execution_count": null,
   "id": "39a0be68",
   "metadata": {},
   "outputs": [],
   "source": []
  }
 ],
 "metadata": {
  "kernelspec": {
   "display_name": "Python 3 (ipykernel)",
   "language": "python",
   "name": "python3"
  },
  "language_info": {
   "codemirror_mode": {
    "name": "ipython",
    "version": 3
   },
   "file_extension": ".py",
   "mimetype": "text/x-python",
   "name": "python",
   "nbconvert_exporter": "python",
   "pygments_lexer": "ipython3",
   "version": "3.9.7"
  }
 },
 "nbformat": 4,
 "nbformat_minor": 5
}
