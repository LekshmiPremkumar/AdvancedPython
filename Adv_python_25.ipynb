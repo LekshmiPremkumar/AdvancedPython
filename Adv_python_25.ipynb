{
 "cells": [
  {
   "cell_type": "code",
   "execution_count": 16,
   "id": "e954911f",
   "metadata": {},
   "outputs": [],
   "source": [
    "def repeat(lst,n):\n",
    "    return lst*n\n",
    "\n",
    "def add(lst,x):\n",
    "    lst.append(x)\n",
    "    return lst\n",
    "\n",
    "def remove(lst,m,n):\n",
    "    for i in range(m,n):\n",
    "        del lst[i]\n",
    "    return lst\n",
    "\n",
    "def concat(lst,x):\n",
    "    lst.extend(x)\n",
    "    return lst"
   ]
  },
  {
   "cell_type": "code",
   "execution_count": 25,
   "id": "9027f242",
   "metadata": {},
   "outputs": [
    {
     "data": {
      "text/plain": [
       "[3, 4, 5, 6, 7, 8, 3, 4, 5, 6, 7, 8, 3, 4, 5, 6, 7, 8]"
      ]
     },
     "execution_count": 25,
     "metadata": {},
     "output_type": "execute_result"
    }
   ],
   "source": [
    "l=[3,4,5,6,7,8]\n",
    "n=3\n",
    "\n",
    "repeat(l,n)"
   ]
  },
  {
   "cell_type": "code",
   "execution_count": 27,
   "id": "cf0e1aa8",
   "metadata": {},
   "outputs": [
    {
     "data": {
      "text/plain": [
       "[3, 4, 5, 6, 7, 8, 4]"
      ]
     },
     "execution_count": 27,
     "metadata": {},
     "output_type": "execute_result"
    }
   ],
   "source": [
    "add(l,4)"
   ]
  },
  {
   "cell_type": "code",
   "execution_count": 29,
   "id": "f3238cd9",
   "metadata": {},
   "outputs": [
    {
     "data": {
      "text/plain": [
       "[3, 4, 6, 8, 4]"
      ]
     },
     "execution_count": 29,
     "metadata": {},
     "output_type": "execute_result"
    }
   ],
   "source": [
    "remove(l,2,4)"
   ]
  },
  {
   "cell_type": "code",
   "execution_count": 32,
   "id": "b0352227",
   "metadata": {},
   "outputs": [
    {
     "data": {
      "text/plain": [
       "[3, 4, 6, 8, 4, 1, 2, 3, 4]"
      ]
     },
     "execution_count": 32,
     "metadata": {},
     "output_type": "execute_result"
    }
   ],
   "source": [
    "concat(l,[1,2,3,4])"
   ]
  },
  {
   "cell_type": "code",
   "execution_count": 61,
   "id": "a463db4d",
   "metadata": {},
   "outputs": [],
   "source": [
    "def guess(a,b):\n",
    "    a=list(a)\n",
    "    b=list(b)\n",
    "    d={\"white\":0,\"black\":0}\n",
    "    for i in range(len(b)):\n",
    "        #print(b[i])\n",
    "        if b[i]==a[i]:\n",
    "            d[\"black\"]+=1\n",
    "            continue\n",
    "            \n",
    "        else:\n",
    "            if b[i] in a:\n",
    "                d[\"white\"]+=1\n",
    "                a[a.index(b[i])]=\"*\"\n",
    "                #print(b[i],a)\n",
    "    return d\n",
    "            \n",
    "        "
   ]
  },
  {
   "cell_type": "code",
   "execution_count": 63,
   "id": "ded398d9",
   "metadata": {},
   "outputs": [
    {
     "data": {
      "text/plain": [
       "{'white': 2, 'black': 0}"
      ]
     },
     "execution_count": 63,
     "metadata": {},
     "output_type": "execute_result"
    }
   ],
   "source": [
    "guess(\"1423\",\"2211\")"
   ]
  },
  {
   "cell_type": "code",
   "execution_count": 70,
   "id": "08c2b0a9",
   "metadata": {},
   "outputs": [],
   "source": [
    "from itertools import combinations\n",
    "def two_product(lst,n):\n",
    "    comb = combinations(lst, 2)\n",
    "\n",
    "\n",
    "    for i in list(comb):\n",
    "        if i[0]*i[1]==n:\n",
    "            return list(i)\n",
    "    return \"none\""
   ]
  },
  {
   "cell_type": "code",
   "execution_count": 73,
   "id": "0787bdae",
   "metadata": {},
   "outputs": [
    {
     "data": {
      "text/plain": [
       "[2, 5]"
      ]
     },
     "execution_count": 73,
     "metadata": {},
     "output_type": "execute_result"
    }
   ],
   "source": [
    "two_product([1, 2, 3, 4, 5], 10)"
   ]
  },
  {
   "cell_type": "code",
   "execution_count": 141,
   "id": "85b225fc",
   "metadata": {},
   "outputs": [
    {
     "ename": "TypeError",
     "evalue": "'int' object is not subscriptable",
     "output_type": "error",
     "traceback": [
      "\u001b[0;31m---------------------------------------------------------------------------\u001b[0m",
      "\u001b[0;31mTypeError\u001b[0m                                 Traceback (most recent call last)",
      "\u001b[0;32m/var/folders/gb/f3p9f4v121q_wkpg_wxw1z680000gq/T/ipykernel_7897/2880340849.py\u001b[0m in \u001b[0;36m<module>\u001b[0;34m\u001b[0m\n\u001b[1;32m     15\u001b[0m \u001b[0;34m\u001b[0m\u001b[0m\n\u001b[1;32m     16\u001b[0m \u001b[0mn\u001b[0m\u001b[0;34m=\u001b[0m\u001b[0;34m[\u001b[0m\u001b[0;34m\"10-02-2018_12:30\"\u001b[0m\u001b[0;34m,\u001b[0m \u001b[0;34m\"10-02-2016_12:30\"\u001b[0m\u001b[0;34m,\u001b[0m \u001b[0;34m\"10-02-2018_12:15\"\u001b[0m\u001b[0;34m]\u001b[0m\u001b[0;34m\u001b[0m\u001b[0;34m\u001b[0m\u001b[0m\n\u001b[0;32m---> 17\u001b[0;31m \u001b[0msort_dates\u001b[0m\u001b[0;34m(\u001b[0m\u001b[0mn\u001b[0m\u001b[0;34m)\u001b[0m\u001b[0;34m\u001b[0m\u001b[0;34m\u001b[0m\u001b[0m\n\u001b[0m\u001b[1;32m     18\u001b[0m \u001b[0;34m\u001b[0m\u001b[0m\n\u001b[1;32m     19\u001b[0m \u001b[0;34m\u001b[0m\u001b[0m\n",
      "\u001b[0;32m/var/folders/gb/f3p9f4v121q_wkpg_wxw1z680000gq/T/ipykernel_7897/2880340849.py\u001b[0m in \u001b[0;36msort_dates\u001b[0;34m(n)\u001b[0m\n\u001b[1;32m     10\u001b[0m     \u001b[0;32mfor\u001b[0m \u001b[0mj\u001b[0m \u001b[0;32min\u001b[0m \u001b[0mrange\u001b[0m\u001b[0;34m(\u001b[0m\u001b[0mlen\u001b[0m\u001b[0;34m(\u001b[0m\u001b[0ml\u001b[0m\u001b[0;34m)\u001b[0m\u001b[0;34m)\u001b[0m\u001b[0;34m:\u001b[0m\u001b[0;34m\u001b[0m\u001b[0;34m\u001b[0m\u001b[0m\n\u001b[1;32m     11\u001b[0m         \u001b[0;32mfor\u001b[0m \u001b[0mk\u001b[0m \u001b[0;32min\u001b[0m \u001b[0mrange\u001b[0m\u001b[0;34m(\u001b[0m\u001b[0mlen\u001b[0m\u001b[0;34m(\u001b[0m\u001b[0ml\u001b[0m\u001b[0;34m[\u001b[0m\u001b[0mj\u001b[0m\u001b[0;34m]\u001b[0m\u001b[0;34m)\u001b[0m\u001b[0;34m)\u001b[0m\u001b[0;34m:\u001b[0m\u001b[0;34m\u001b[0m\u001b[0;34m\u001b[0m\u001b[0m\n\u001b[0;32m---> 12\u001b[0;31m             \u001b[0mprint\u001b[0m\u001b[0;34m(\u001b[0m\u001b[0mdatetime\u001b[0m\u001b[0;34m.\u001b[0m\u001b[0mdate\u001b[0m\u001b[0;34m(\u001b[0m\u001b[0mk\u001b[0m\u001b[0;34m[\u001b[0m\u001b[0;36m0\u001b[0m\u001b[0;34m]\u001b[0m\u001b[0;34m)\u001b[0m\u001b[0;34m)\u001b[0m\u001b[0;34m\u001b[0m\u001b[0;34m\u001b[0m\u001b[0m\n\u001b[0m\u001b[1;32m     13\u001b[0m     \u001b[0;32mreturn\u001b[0m \u001b[0ml\u001b[0m\u001b[0;34m\u001b[0m\u001b[0;34m\u001b[0m\u001b[0m\n\u001b[1;32m     14\u001b[0m \u001b[0;34m\u001b[0m\u001b[0m\n",
      "\u001b[0;31mTypeError\u001b[0m: 'int' object is not subscriptable"
     ]
    }
   ],
   "source": [
    "import datetime\n",
    "\n",
    "def sort_dates(n):\n",
    "    l=[]\n",
    "    \n",
    "    for i in n:\n",
    "        y=i.split(\"_\")\n",
    "        l.append(y)\n",
    "        \n",
    "    for j in range(len(l)):\n",
    "        for k in range(len(l[j])):\n",
    "            print(datetime.date(k[0]))\n",
    "    return l\n",
    "\n",
    "\n",
    "n=[\"10-02-2018_12:30\", \"10-02-2016_12:30\", \"10-02-2018_12:15\"]\n",
    "sort_dates(n)\n",
    "     \n",
    "    \n",
    "        \n",
    "    "
   ]
  },
  {
   "cell_type": "code",
   "execution_count": 136,
   "id": "550e25b7",
   "metadata": {},
   "outputs": [],
   "source": [
    "def same_vowel_group(n):\n",
    "    c=[n[0]]\n",
    "    maxi=0\n",
    "    d={}\n",
    "    for i in n:\n",
    "        y=[]\n",
    "        for j in i:\n",
    "            if j in[\"a\",\"e\",\"i\",\"o\",\"u\"]:\n",
    "                y.append(j)\n",
    "        k=(\"\").join(set(y))\n",
    "        if k in d:\n",
    "            d[k].append(i)\n",
    "            if len(d[k])>maxi:\n",
    "                c=d[k]\n",
    "        else:\n",
    "            d[k]=[i]\n",
    "        \n",
    "    return c\n",
    "        \n",
    "    "
   ]
  },
  {
   "cell_type": "code",
   "execution_count": 128,
   "id": "3faeb143",
   "metadata": {},
   "outputs": [
    {
     "data": {
      "text/plain": [
       "['many']"
      ]
     },
     "execution_count": 128,
     "metadata": {},
     "output_type": "execute_result"
    }
   ],
   "source": [
    "same_vowel_group([\"many\", \"carriage\", \"emit\", \"apricot\", \"animal\"])"
   ]
  },
  {
   "cell_type": "code",
   "execution_count": 126,
   "id": "d257a6d4",
   "metadata": {},
   "outputs": [
    {
     "data": {
      "text/plain": [
       "['toe', 'ocelet']"
      ]
     },
     "execution_count": 126,
     "metadata": {},
     "output_type": "execute_result"
    }
   ],
   "source": [
    "same_vowel_group([\"toe\", \"ocelet\", \"maniac\"])"
   ]
  },
  {
   "cell_type": "code",
   "execution_count": 129,
   "id": "ee537c37",
   "metadata": {},
   "outputs": [
    {
     "data": {
      "text/plain": [
       "['hoops', 'bot', 'bottom']"
      ]
     },
     "execution_count": 129,
     "metadata": {},
     "output_type": "execute_result"
    }
   ],
   "source": [
    "same_vowel_group([\"hoops\", \"chuff\", \"bot\", \"bottom\"]) "
   ]
  },
  {
   "cell_type": "code",
   "execution_count": 99,
   "id": "cee5b57b",
   "metadata": {},
   "outputs": [],
   "source": [
    "def hcf(a,b):\n",
    "    if b==0:\n",
    "        return a\n",
    "    else:\n",
    "        return hcf(b,a%b)\n",
    "\n",
    "\n",
    "def lcm(a,b):\n",
    "    return (a / hcf(a,b))* b"
   ]
  },
  {
   "cell_type": "code",
   "execution_count": 102,
   "id": "6eb9797b",
   "metadata": {},
   "outputs": [],
   "source": [
    "def lcm_list(n):\n",
    "    l=lcm(n[0],n[1])\n",
    "    for i in range(2,len(n)):\n",
    "        l=lcm(l,n[i])\n",
    "    return l\n",
    "        "
   ]
  },
  {
   "cell_type": "code",
   "execution_count": 103,
   "id": "df9d950a",
   "metadata": {},
   "outputs": [
    {
     "data": {
      "text/plain": [
       "2520.0"
      ]
     },
     "execution_count": 103,
     "metadata": {},
     "output_type": "execute_result"
    }
   ],
   "source": [
    "lcm_list([1, 2, 3, 4, 5, 6, 7, 8, 9, 10])"
   ]
  },
  {
   "cell_type": "code",
   "execution_count": null,
   "id": "15ccaf74",
   "metadata": {},
   "outputs": [],
   "source": []
  }
 ],
 "metadata": {
  "kernelspec": {
   "display_name": "Python 3 (ipykernel)",
   "language": "python",
   "name": "python3"
  },
  "language_info": {
   "codemirror_mode": {
    "name": "ipython",
    "version": 3
   },
   "file_extension": ".py",
   "mimetype": "text/x-python",
   "name": "python",
   "nbconvert_exporter": "python",
   "pygments_lexer": "ipython3",
   "version": "3.9.7"
  }
 },
 "nbformat": 4,
 "nbformat_minor": 5
}
