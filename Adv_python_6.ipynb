{
 "cells": [
  {
   "cell_type": "code",
   "execution_count": 1,
   "id": "6d93cd8f",
   "metadata": {},
   "outputs": [],
   "source": [
    "def find_the_differece(s1,s2):\n",
    "    l1=list(s1)\n",
    "    l2=list(s2)\n",
    "    for i in l2 :\n",
    "        if i not in l1:\n",
    "            return i"
   ]
  },
  {
   "cell_type": "code",
   "execution_count": 4,
   "id": "b1ed4955",
   "metadata": {},
   "outputs": [
    {
     "data": {
      "text/plain": [
       "'d'"
      ]
     },
     "execution_count": 4,
     "metadata": {},
     "output_type": "execute_result"
    }
   ],
   "source": [
    "find_the_differece(\"\",\"d\")"
   ]
  },
  {
   "cell_type": "code",
   "execution_count": 9,
   "id": "1d89029c",
   "metadata": {},
   "outputs": [],
   "source": [
    "def count_datatypes(*args):\n",
    "    d={int:0, str:0, bool:0, list:0, tuple:0, dict:0}\n",
    "    for i in range(len(args)):\n",
    "        if type(args[i]) in d:\n",
    "            d[type(args[i])]+=1\n",
    "    return list(d.values())"
   ]
  },
  {
   "cell_type": "code",
   "execution_count": 13,
   "id": "84eee62f",
   "metadata": {},
   "outputs": [
    {
     "data": {
      "text/plain": [
       "[2, 1, 1, 0, 0, 0]"
      ]
     },
     "execution_count": 13,
     "metadata": {},
     "output_type": "execute_result"
    }
   ],
   "source": [
    "count_datatypes(1, 45, \"hi\", False)"
   ]
  },
  {
   "cell_type": "code",
   "execution_count": 22,
   "id": "d4549041",
   "metadata": {},
   "outputs": [],
   "source": [
    "def fib_str(n,l):\n",
    "    lis=[]\n",
    "    lis.extend(l)\n",
    "    for i in range(2,n):\n",
    "        lis.append(lis[i-1]+lis[i-2])\n",
    "    return lis[n-1]\n",
    "        \n",
    "        "
   ]
  },
  {
   "cell_type": "code",
   "execution_count": 24,
   "id": "5c05732d",
   "metadata": {},
   "outputs": [
    {
     "data": {
      "text/plain": [
       "'aeaae'"
      ]
     },
     "execution_count": 24,
     "metadata": {},
     "output_type": "execute_result"
    }
   ],
   "source": [
    "fib_str(5,[\"e\",\"a\"])"
   ]
  },
  {
   "cell_type": "code",
   "execution_count": 29,
   "id": "a3db9611",
   "metadata": {},
   "outputs": [],
   "source": [
    "def onesthreesnines(n):\n",
    "    nines=0\n",
    "    threes=0\n",
    "    ones=0\n",
    "    while n!=0:\n",
    "        if n-9>=0:\n",
    "            nines+=1\n",
    "            n=n-9\n",
    "        elif n-3>=0:\n",
    "            threes+=1\n",
    "            n=n-3\n",
    "        elif n-1>=0:\n",
    "            ones+=1\n",
    "            n=n-1\n",
    "    y={\"nines\":nines,\"threes\":threes,\"ones\":ones}\n",
    "    return str(y)\n",
    "        "
   ]
  },
  {
   "cell_type": "code",
   "execution_count": 32,
   "id": "fd02d856",
   "metadata": {},
   "outputs": [
    {
     "data": {
      "text/plain": [
       "\"{'nines': 2, 'threes': 1, 'ones': 1}\""
      ]
     },
     "execution_count": 32,
     "metadata": {},
     "output_type": "execute_result"
    }
   ],
   "source": [
    "onesthreesnines(22)"
   ]
  },
  {
   "cell_type": "code",
   "execution_count": 47,
   "id": "6f93fa6c",
   "metadata": {},
   "outputs": [],
   "source": [
    "def fib(n):\n",
    "    l=[]\n",
    "    l.extend([0,1])\n",
    "    t=[l.append(l[i-1]+l[i-2]) for i in range(2,n+1)]\n",
    "    return l[n]"
   ]
  },
  {
   "cell_type": "code",
   "execution_count": 48,
   "id": "2252deb2",
   "metadata": {},
   "outputs": [
    {
     "data": {
      "text/plain": [
       "8"
      ]
     },
     "execution_count": 48,
     "metadata": {},
     "output_type": "execute_result"
    }
   ],
   "source": [
    "fib(6)"
   ]
  },
  {
   "cell_type": "code",
   "execution_count": null,
   "id": "b44e11f6",
   "metadata": {},
   "outputs": [],
   "source": []
  }
 ],
 "metadata": {
  "kernelspec": {
   "display_name": "Python 3 (ipykernel)",
   "language": "python",
   "name": "python3"
  },
  "language_info": {
   "codemirror_mode": {
    "name": "ipython",
    "version": 3
   },
   "file_extension": ".py",
   "mimetype": "text/x-python",
   "name": "python",
   "nbconvert_exporter": "python",
   "pygments_lexer": "ipython3",
   "version": "3.9.7"
  }
 },
 "nbformat": 4,
 "nbformat_minor": 5
}
