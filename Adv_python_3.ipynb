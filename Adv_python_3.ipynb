{
 "cells": [
  {
   "cell_type": "code",
   "execution_count": 46,
   "id": "164beca6",
   "metadata": {},
   "outputs": [
    {
     "name": "stdout",
     "output_type": "stream",
     "text": [
      "<re.Match object; span=(0, 1), match='9'>\n"
     ]
    }
   ],
   "source": [
    "import re\n",
    "x=\"9+9\"\n",
    "print(re.search(r\"[0-9]\",x))\n",
    "#print(re.search(r\"[a-p]\",\"xenon\"))\n"
   ]
  },
  {
   "cell_type": "code",
   "execution_count": 89,
   "id": "1e484f5b",
   "metadata": {},
   "outputs": [],
   "source": [
    "#q2 \n",
    "from itertools import combinations\n",
    "import math\n",
    "def trianglearea(n):\n",
    "    d={}\n",
    "    l=[]\n",
    "    \n",
    "    for i in range(len(n)):\n",
    "        d[i+1]=n[i]\n",
    "    ss=0\n",
    "    for i in combinations(\"123\",2):\n",
    "        x=d[int(i[0])]\n",
    "        y=d[int(i[1])]\n",
    "        ll= math.sqrt(pow((x[1]-y[1]),2)+pow((x[0]-y[0]),2))\n",
    "        l.append(ll)\n",
    "        ss+=ll\n",
    "\n",
    "    \n",
    "    #Area=math.sqrt(S*(S-l[0])*(S-l[1])*(S-l[2]))\n",
    "    return round(ss,2)\n",
    "\n",
    "\n",
    "        "
   ]
  },
  {
   "cell_type": "code",
   "execution_count": 91,
   "id": "bb764dce",
   "metadata": {},
   "outputs": [
    {
     "data": {
      "text/plain": [
       "3.41"
      ]
     },
     "execution_count": 91,
     "metadata": {},
     "output_type": "execute_result"
    }
   ],
   "source": [
    "n=[ [0,0], [0, 1 ], [1, 0] ]\n",
    "trianglearea(n)"
   ]
  },
  {
   "cell_type": "code",
   "execution_count": 7,
   "id": "afebf543",
   "metadata": {},
   "outputs": [],
   "source": [
    "#Q3 skyscraper\n",
    "def tallest_skyscraper(A):\n",
    "    l=[]\n",
    "    \n",
    "    for i in range(len(A[0])):\n",
    "        s=0\n",
    "        for j in range(len(A)):\n",
    "            s=s+A[j][i]\n",
    "        l.append(s)\n",
    "    return max(l)\n"
   ]
  },
  {
   "cell_type": "code",
   "execution_count": 8,
   "id": "f0400169",
   "metadata": {},
   "outputs": [],
   "source": [
    "A=[[0, 0, 0, 0, 0, 0],\n",
    "[0, 0, 0, 0, 1, 0],\n",
    "[0, 0, 1, 0, 1, 0],\n",
    "[0, 1, 1, 1, 1, 0],\n",
    "[1, 1, 1, 1, 1, 1]]"
   ]
  },
  {
   "cell_type": "code",
   "execution_count": 11,
   "id": "fac95111",
   "metadata": {},
   "outputs": [
    {
     "data": {
      "text/plain": [
       "4"
      ]
     },
     "execution_count": 11,
     "metadata": {},
     "output_type": "execute_result"
    }
   ],
   "source": [
    "tallest_skyscraper(A)"
   ]
  },
  {
   "cell_type": "code",
   "execution_count": 9,
   "id": "cb481773",
   "metadata": {},
   "outputs": [
    {
     "data": {
      "text/plain": [
       "3"
      ]
     },
     "execution_count": 9,
     "metadata": {},
     "output_type": "execute_result"
    }
   ],
   "source": [
    "tallest_skyscraper([\n",
    "[0, 0, 0, 0],\n",
    "[0, 1, 0, 0],\n",
    "[0, 1, 1, 0],\n",
    "[1, 1, 1, 1]\n",
    "])"
   ]
  },
  {
   "cell_type": "code",
   "execution_count": 10,
   "id": "66517f2e",
   "metadata": {},
   "outputs": [
    {
     "data": {
      "text/plain": [
       "2"
      ]
     },
     "execution_count": 10,
     "metadata": {},
     "output_type": "execute_result"
    }
   ],
   "source": [
    "tallest_skyscraper([\n",
    "[0, 0, 0, 0],\n",
    "[0, 0, 0, 0],\n",
    "[1, 1, 1, 0],\n",
    "[1, 1, 1, 1]\n",
    "])"
   ]
  },
  {
   "cell_type": "code",
   "execution_count": 31,
   "id": "1a76de15",
   "metadata": {},
   "outputs": [],
   "source": [
    "#Q4\n",
    "def bonus(n):\n",
    "    s=0\n",
    "    while(n!=0):\n",
    "       \n",
    "        if n<=32:\n",
    "            s=s+0*n\n",
    "            n=0\n",
    "        elif n>=33 and n<=40:\n",
    "            s= s+ 325*(n-32)\n",
    "            n=32\n",
    "        elif n>=41 and n<=48:\n",
    "            s=s+550*(n-40)\n",
    "            n=40\n",
    "        else:\n",
    "            s=s+600*(n-48)\n",
    "            n=48\n",
    "    return s\n",
    "    \n",
    "\n",
    "\n"
   ]
  },
  {
   "cell_type": "code",
   "execution_count": 32,
   "id": "ffd3c018",
   "metadata": {},
   "outputs": [
    {
     "data": {
      "text/plain": [
       "8200"
      ]
     },
     "execution_count": 32,
     "metadata": {},
     "output_type": "execute_result"
    }
   ],
   "source": [
    "bonus(50)"
   ]
  },
  {
   "cell_type": "code",
   "execution_count": 35,
   "id": "199e2f9d",
   "metadata": {},
   "outputs": [],
   "source": [
    "\n",
    "#q5\n",
    "\n",
    "def isDisarium(n):\n",
    "    num=n\n",
    "    l=len(str(n))\n",
    "    s=0\n",
    "    while n!=0:\n",
    "        s+=pow((n%10),l)\n",
    "        n=n//10\n",
    "        l-=1\n",
    "    if num==s:\n",
    "        return True\n",
    "    else:\n",
    "        return False\n"
   ]
  },
  {
   "cell_type": "code",
   "execution_count": 38,
   "id": "e7dc2f34",
   "metadata": {},
   "outputs": [
    {
     "data": {
      "text/plain": [
       "True"
      ]
     },
     "execution_count": 38,
     "metadata": {},
     "output_type": "execute_result"
    }
   ],
   "source": [
    "isDisarium(135)"
   ]
  },
  {
   "cell_type": "code",
   "execution_count": null,
   "id": "207498d5",
   "metadata": {},
   "outputs": [],
   "source": []
  }
 ],
 "metadata": {
  "kernelspec": {
   "display_name": "Python 3 (ipykernel)",
   "language": "python",
   "name": "python3"
  },
  "language_info": {
   "codemirror_mode": {
    "name": "ipython",
    "version": 3
   },
   "file_extension": ".py",
   "mimetype": "text/x-python",
   "name": "python",
   "nbconvert_exporter": "python",
   "pygments_lexer": "ipython3",
   "version": "3.9.7"
  }
 },
 "nbformat": 4,
 "nbformat_minor": 5
}
