{
 "cells": [
  {
   "cell_type": "code",
   "execution_count": 1,
   "id": "8a24d95e",
   "metadata": {},
   "outputs": [],
   "source": [
    "#function to print 8 for even and 2 or odd no.s\n",
    "def f(n):\n",
    "    while (n>0):\n",
    "        n=n-2\n",
    "    if n==0:\n",
    "        return 8\n",
    "    else:\n",
    "        return 2"
   ]
  },
  {
   "cell_type": "code",
   "execution_count": 5,
   "id": "0a1a82b4",
   "metadata": {},
   "outputs": [
    {
     "data": {
      "text/plain": [
       "2"
      ]
     },
     "execution_count": 5,
     "metadata": {},
     "output_type": "execute_result"
    }
   ],
   "source": [
    "f(3)"
   ]
  },
  {
   "cell_type": "code",
   "execution_count": 10,
   "id": "2c5aaaec",
   "metadata": {},
   "outputs": [],
   "source": [
    "def majorityvote(n):\n",
    "    d={}\n",
    "    for i in n:\n",
    "        if i in d:\n",
    "            d[i]+=1\n",
    "            if d[i]>int(len(n)/2):\n",
    "                return i\n",
    "        else:\n",
    "            d[i]=1\n",
    "    return \"None\""
   ]
  },
  {
   "cell_type": "code",
   "execution_count": 17,
   "id": "c8b1d386",
   "metadata": {},
   "outputs": [
    {
     "data": {
      "text/plain": [
       "'A'"
      ]
     },
     "execution_count": 17,
     "metadata": {},
     "output_type": "execute_result"
    }
   ],
   "source": [
    "majorityvote([\"A\",\"A\",\"A\",\"B\",\"B\",\"B\",\"C\",\"D\",\"A\",\"A\",\"A\",\"A\"])"
   ]
  },
  {
   "cell_type": "code",
   "execution_count": 194,
   "id": "34d10d3d",
   "metadata": {},
   "outputs": [],
   "source": [
    "import re\n",
    "def censor_string(sl,L,r):\n",
    "    s=list(sl)\n",
    "\n",
    "    for item in L:\n",
    "        for k in range(len(s)):\n",
    "            if (\"\").join(s[k:k+len(item)])== item:\n",
    "                for j in range(k,k+len(item)):\n",
    "                    s[j]=r \n",
    "                break\n",
    "                 \n",
    "    return (\"\").join(s)\n",
    "    \n",
    "        "
   ]
  },
  {
   "cell_type": "code",
   "execution_count": 195,
   "id": "df7e2158",
   "metadata": {},
   "outputs": [
    {
     "data": {
      "text/plain": [
       "'***** is * Wednesday!!'"
      ]
     },
     "execution_count": 195,
     "metadata": {},
     "output_type": "execute_result"
    }
   ],
   "source": [
    "sl=\"Today is a Wednesday!!\"\n",
    "L=[\"Today\",\"a\"]\n",
    "r=\"*\"\n",
    "censor_string(sl,L,r)"
   ]
  },
  {
   "cell_type": "code",
   "execution_count": 189,
   "id": "ef56f65d",
   "metadata": {},
   "outputs": [],
   "source": [
    "def isPolydivisible(n):\n",
    "    f=0\n",
    "    while n!=0:\n",
    "        if n%len(str(n))!=0:\n",
    "            return False\n",
    "        else:\n",
    "            n=n//10\n",
    "    return True"
   ]
  },
  {
   "cell_type": "code",
   "execution_count": 101,
   "id": "e2660067",
   "metadata": {},
   "outputs": [
    {
     "data": {
      "text/plain": [
       "False"
      ]
     },
     "execution_count": 101,
     "metadata": {},
     "output_type": "execute_result"
    }
   ],
   "source": [
    "isPolydivisible(123220)"
   ]
  },
  {
   "cell_type": "code",
   "execution_count": 112,
   "id": "77819e41",
   "metadata": {},
   "outputs": [],
   "source": [
    "def Sumprime(l):\n",
    "    s=0\n",
    "    for n in l:\n",
    "        f=0\n",
    "        for i in range(2, int(n/2)+1):\n",
    "            if n%i==0:\n",
    "                f=1\n",
    "        if f==0:\n",
    "            s+=n\n",
    "    if 1 in l:\n",
    "        return s-1\n",
    "    else:\n",
    "        return s"
   ]
  },
  {
   "cell_type": "code",
   "execution_count": 111,
   "id": "938a753c",
   "metadata": {},
   "outputs": [
    {
     "data": {
      "text/plain": [
       "87"
      ]
     },
     "execution_count": 111,
     "metadata": {},
     "output_type": "execute_result"
    }
   ],
   "source": [
    "Sumprime([2, 3, 4, 11, 20, 50, 71])"
   ]
  },
  {
   "cell_type": "code",
   "execution_count": null,
   "id": "50ad0395",
   "metadata": {},
   "outputs": [],
   "source": []
  }
 ],
 "metadata": {
  "kernelspec": {
   "display_name": "Python 3 (ipykernel)",
   "language": "python",
   "name": "python3"
  },
  "language_info": {
   "codemirror_mode": {
    "name": "ipython",
    "version": 3
   },
   "file_extension": ".py",
   "mimetype": "text/x-python",
   "name": "python",
   "nbconvert_exporter": "python",
   "pygments_lexer": "ipython3",
   "version": "3.9.7"
  }
 },
 "nbformat": 4,
 "nbformat_minor": 5
}
