{
 "cells": [
  {
   "cell_type": "code",
   "execution_count": null,
   "id": "0029bc74",
   "metadata": {},
   "outputs": [],
   "source": [
    "<p class=\"one two\"></p>"
   ]
  },
  {
   "cell_type": "code",
   "execution_count": null,
   "id": "027a033b",
   "metadata": {},
   "outputs": [],
   "source": [
    "secret(\"p.one.two\")"
   ]
  },
  {
   "cell_type": "code",
   "execution_count": 11,
   "id": "8aab5221",
   "metadata": {},
   "outputs": [],
   "source": [
    "def secret(n):\n",
    "    y=n.split(\".\")\n",
    "    s=\"<\"+str(y[0])+\" class=\\\"\"\n",
    "    t=(\" \").join(y[1:])\n",
    "    #for i in range(1,len(y)):\n",
    "        #s+=str(y[i])\n",
    "    \n",
    "    s=s+t+\"\\\"></\"+str(y[0])+\">\"\n",
    "    return s"
   ]
  },
  {
   "cell_type": "code",
   "execution_count": 13,
   "id": "46d20add",
   "metadata": {},
   "outputs": [
    {
     "data": {
      "text/plain": [
       "'<p class=\"one two three\"></p>'"
      ]
     },
     "execution_count": 13,
     "metadata": {},
     "output_type": "execute_result"
    }
   ],
   "source": [
    "secret(\"p.one.two.three\")"
   ]
  },
  {
   "cell_type": "code",
   "execution_count": 166,
   "id": "709f5a25",
   "metadata": {},
   "outputs": [],
   "source": [
    "def count_lone_ones(n):\n",
    "    y=list(\"0\"+str(n)+\"0\")\n",
    "    print(y)\n",
    "    c=0\n",
    "    for i in range(1,len(y)):\n",
    "        if y[i]==\"1\":\n",
    "            #print(i)\n",
    "            if (y[i-1]!=str(1) and  y[i+1]!=str(1)):\n",
    "                #print(y[i-1],y[i],y[i+1])\n",
    "                c+=1\n",
    "    #r=str(n).count(\"1\")\n",
    "    return c"
   ]
  },
  {
   "cell_type": "code",
   "execution_count": 168,
   "id": "4a8f72b2",
   "metadata": {},
   "outputs": [
    {
     "name": "stdout",
     "output_type": "stream",
     "text": [
      "['0', '1', '1', '0', '1', '0', '1', '0']\n"
     ]
    },
    {
     "data": {
      "text/plain": [
       "2"
      ]
     },
     "execution_count": 168,
     "metadata": {},
     "output_type": "execute_result"
    }
   ],
   "source": [
    "count_lone_ones(110101)"
   ]
  },
  {
   "cell_type": "code",
   "execution_count": 41,
   "id": "5c7b2256",
   "metadata": {},
   "outputs": [
    {
     "data": {
      "text/plain": [
       "2"
      ]
     },
     "execution_count": 41,
     "metadata": {},
     "output_type": "execute_result"
    }
   ],
   "source": [
    "\"101\".count(\"1\")"
   ]
  },
  {
   "cell_type": "code",
   "execution_count": 62,
   "id": "84727ee7",
   "metadata": {},
   "outputs": [],
   "source": [
    "def printGrid(r,c):\n",
    "    k=1\n",
    "    A=[[0 for j in range(c)] for i in range(r)]\n",
    "    for j in range(c):\n",
    "        for i in range(r):\n",
    "            A[i][j]=k\n",
    "            k+=1\n",
    "    return A\n",
    "    \n",
    "            "
   ]
  },
  {
   "cell_type": "code",
   "execution_count": 64,
   "id": "c61bc0fa",
   "metadata": {},
   "outputs": [
    {
     "data": {
      "text/plain": [
       "[[1, 6, 11], [2, 7, 12], [3, 8, 13], [4, 9, 14], [5, 10, 15]]"
      ]
     },
     "execution_count": 64,
     "metadata": {},
     "output_type": "execute_result"
    }
   ],
   "source": [
    "printGrid(5,3)"
   ]
  },
  {
   "cell_type": "code",
   "execution_count": 99,
   "id": "83c29a9c",
   "metadata": {},
   "outputs": [],
   "source": [
    "def min_mis_pos(n):\n",
    "    s=sorted(n)\n",
    "    l=[]\n",
    "    \n",
    "    for i in range(len(n)-2,-1,-1):\n",
    "        \n",
    "        if s[i]!=s[i+1]-1 and s[i]!=s[i+1] :\n",
    "            l.append(s[i+1]-1)\n",
    "    minm=l[0]\n",
    "    \n",
    "    for i in l:\n",
    "        if i < minm and i>0:\n",
    "            minm=i\n",
    "        \n",
    "    return minm\n",
    "        \n",
    "            \n",
    "        "
   ]
  },
  {
   "cell_type": "code",
   "execution_count": 100,
   "id": "0c2fb44b",
   "metadata": {},
   "outputs": [
    {
     "data": {
      "text/plain": [
       "8"
      ]
     },
     "execution_count": 100,
     "metadata": {},
     "output_type": "execute_result"
    }
   ],
   "source": [
    "n=[-2, 6, 4, 5, 7, -1, 7, 1, 3, 6, 6, -2, 9, 10, 2, 2]\n",
    "min_mis_pos(n)"
   ]
  },
  {
   "cell_type": "code",
   "execution_count": 103,
   "id": "9cbb3e48",
   "metadata": {},
   "outputs": [
    {
     "data": {
      "text/plain": [
       "2"
      ]
     },
     "execution_count": 103,
     "metadata": {},
     "output_type": "execute_result"
    }
   ],
   "source": [
    "min_mis_pos([5, 9, -2, 0, 1, 3, 9, 3, 8, 9])\n"
   ]
  },
  {
   "cell_type": "code",
   "execution_count": 106,
   "id": "fac85bb4",
   "metadata": {},
   "outputs": [],
   "source": [
    "def pizza_points(d,order,price):\n",
    "    l=[]\n",
    "    for i in d:\n",
    "        s=0\n",
    "        for j in d[i]:\n",
    "            if j>=price:\n",
    "                s+=1\n",
    "        if s>=order:\n",
    "            l.append(i)\n",
    "    return l"
   ]
  },
  {
   "cell_type": "code",
   "execution_count": 109,
   "id": "4107ee26",
   "metadata": {},
   "outputs": [
    {
     "data": {
      "text/plain": [
       "['Batman', 'Spider-Man']"
      ]
     },
     "execution_count": 109,
     "metadata": {},
     "output_type": "execute_result"
    }
   ],
   "source": [
    "customers = {\n",
    "\"Batman\": [22, 30, 11, 17, 15, 52, 27, 12],\n",
    "\"Spider-Man\": [5, 17, 30, 33, 40, 22, 26, 10, 11, 45]\n",
    "}\n",
    "\n",
    "pizza_points(customers,3,10)"
   ]
  },
  {
   "cell_type": "code",
   "execution_count": null,
   "id": "c4b8124d",
   "metadata": {},
   "outputs": [],
   "source": []
  }
 ],
 "metadata": {
  "kernelspec": {
   "display_name": "Python 3 (ipykernel)",
   "language": "python",
   "name": "python3"
  },
  "language_info": {
   "codemirror_mode": {
    "name": "ipython",
    "version": 3
   },
   "file_extension": ".py",
   "mimetype": "text/x-python",
   "name": "python",
   "nbconvert_exporter": "python",
   "pygments_lexer": "ipython3",
   "version": "3.9.7"
  }
 },
 "nbformat": 4,
 "nbformat_minor": 5
}
