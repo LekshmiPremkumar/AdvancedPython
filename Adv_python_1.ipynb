{
 "cells": [
  {
   "cell_type": "code",
   "execution_count": 3,
   "id": "d88b4bce",
   "metadata": {},
   "outputs": [],
   "source": [
    "#Write a function that takes a list of lists and returns the value of all of the\n",
    "#symbols in it, where each symbol adds or takes something from the total\n",
    "#score. Symbol values:\n",
    "\n",
    "def  checkscore(l):\n",
    "    d={\"#\":5,\"O\":3,\"X\":1,\"!\": -1, \"!!\": -3, \"!!!\": -5}\n",
    "    s=0\n",
    "    for i in l:\n",
    "        for j in i:\n",
    "            s+=d[j]\n",
    "    if s<0:\n",
    "        return 0\n",
    "    else:\n",
    "        return s\n",
    "    \n",
    "\n"
   ]
  },
  {
   "cell_type": "code",
   "execution_count": 6,
   "id": "08500603",
   "metadata": {},
   "outputs": [
    {
     "data": {
      "text/plain": [
       "0"
      ]
     },
     "execution_count": 6,
     "metadata": {},
     "output_type": "execute_result"
    }
   ],
   "source": [
    "checkscore([\n",
    "[\"#\", \"!\"],\n",
    "[\"!!\", \"!!!\"]\n",
    "])"
   ]
  },
  {
   "cell_type": "code",
   "execution_count": 7,
   "id": "d717d50d",
   "metadata": {},
   "outputs": [],
   "source": [
    "#Create a function that takes a variable number of arguments, each argument representing the number \n",
    "#of items in a group, and returns the number of permutations (combinations) of items that you could get by taking\n",
    "#one item from each group.\n",
    "\n",
    "def combination(*args):\n",
    "    p=1\n",
    "    for i in args:\n",
    "        p*=i\n",
    "    return p"
   ]
  },
  {
   "cell_type": "code",
   "execution_count": 9,
   "id": "d14f49df",
   "metadata": {},
   "outputs": [
    {
     "data": {
      "text/plain": [
       "720"
      ]
     },
     "execution_count": 9,
     "metadata": {},
     "output_type": "execute_result"
    }
   ],
   "source": [
    "combination(2,3,4,5,6)"
   ]
  },
  {
   "cell_type": "code",
   "execution_count": 16,
   "id": "3c542906",
   "metadata": {},
   "outputs": [],
   "source": [
    "def encode_morse(s):\n",
    "    MORSE_CODE_DICT = { 'A':'.-', 'B':'-...',\n",
    "                    'C':'-.-.', 'D':'-..', 'E':'.',\n",
    "                    'F':'..-.', 'G':'--.', 'H':'....',\n",
    "                    'I':'..', 'J':'.---', 'K':'-.-',\n",
    "                    'L':'.-..', 'M':'--', 'N':'-.',\n",
    "                    'O':'---', 'P':'.--.', 'Q':'--.-',\n",
    "                    'R':'.-.', 'S':'...', 'T':'-',\n",
    "                    'U':'..-', 'V':'...-', 'W':'.--',\n",
    "                    'X':'-..-', 'Y':'-.--', 'Z':'--..',\n",
    "                    '1':'.----', '2':'..---', '3':'...--',\n",
    "                    '4':'....-', '5':'.....', '6':'-....',\n",
    "                    '7':'--...', '8':'---..', '9':'----.',\n",
    "                    '0':'-----', ', ':'--..--', '.':'.-.-.-',\n",
    "                    '?':'..--..', '/':'-..-.', '-':'-....-',\n",
    "                    '(':'-.--.', ')':'-.--.-' ,}\n",
    "    \n",
    "    l=list(s)\n",
    "    y=\"\"\n",
    "    for i in range(len(l)):\n",
    "        if l[i]!=\" \":\n",
    "            l[i]=MORSE_CODE_DICT[l[i]]\n",
    "    return (\"\").join(l)\n",
    "\n",
    "                            \n",
    "        \n",
    "        "
   ]
  },
  {
   "cell_type": "code",
   "execution_count": 18,
   "id": "48a0d919",
   "metadata": {},
   "outputs": [
    {
     "data": {
      "text/plain": [
       "'......-...-..--- ......-...--. --.'"
      ]
     },
     "execution_count": 18,
     "metadata": {},
     "output_type": "execute_result"
    }
   ],
   "source": [
    "encode_morse(\"HELLO HELP ME\")"
   ]
  },
  {
   "cell_type": "code",
   "execution_count": 29,
   "id": "66e6710a",
   "metadata": {},
   "outputs": [],
   "source": [
    "import math\n",
    "def PRIME(n):\n",
    "    for i in range(2,int(n/2)+1):\n",
    "        if n%i==0:\n",
    "            return False\n",
    "    return True"
   ]
  },
  {
   "cell_type": "code",
   "execution_count": 33,
   "id": "9d2bdabe",
   "metadata": {},
   "outputs": [
    {
     "data": {
      "text/plain": [
       "True"
      ]
     },
     "execution_count": 33,
     "metadata": {},
     "output_type": "execute_result"
    }
   ],
   "source": [
    "PRIME(56963)"
   ]
  },
  {
   "cell_type": "code",
   "execution_count": 46,
   "id": "be4e5a9d",
   "metadata": {},
   "outputs": [],
   "source": [
    "def to_boolean_list(n):\n",
    "    l=list(n)\n",
    "    for i in range(len(l)):\n",
    "        if ord(l[i])%2==0:\n",
    "            l[i]=0\n",
    "        else:\n",
    "            l[i]=1\n",
    "    for i in range(len(l)):\n",
    "        l[i]=bool(l[i])\n",
    "    return l"
   ]
  },
  {
   "cell_type": "code",
   "execution_count": 47,
   "id": "9e7f3463",
   "metadata": {},
   "outputs": [
    {
     "data": {
      "text/plain": [
       "[False, True, False, True, True]"
      ]
     },
     "execution_count": 47,
     "metadata": {},
     "output_type": "execute_result"
    }
   ],
   "source": [
    "to_boolean_list(\"loves\")\n"
   ]
  },
  {
   "cell_type": "code",
   "execution_count": null,
   "id": "83bc8925",
   "metadata": {},
   "outputs": [],
   "source": []
  }
 ],
 "metadata": {
  "kernelspec": {
   "display_name": "Python 3 (ipykernel)",
   "language": "python",
   "name": "python3"
  },
  "language_info": {
   "codemirror_mode": {
    "name": "ipython",
    "version": 3
   },
   "file_extension": ".py",
   "mimetype": "text/x-python",
   "name": "python",
   "nbconvert_exporter": "python",
   "pygments_lexer": "ipython3",
   "version": "3.9.7"
  }
 },
 "nbformat": 4,
 "nbformat_minor": 5
}
