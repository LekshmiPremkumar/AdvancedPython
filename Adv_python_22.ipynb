{
 "cells": [
  {
   "cell_type": "code",
   "execution_count": 3,
   "id": "416fa0a4",
   "metadata": {},
   "outputs": [],
   "source": [
    "class Smoothie:\n",
    "    \n",
    "    def __init__(self,n):\n",
    "        self.ingredients=n\n",
    "        \n",
    "    def get_cost(self):\n",
    "        s=0\n",
    "        Ingre_price={\"Strawberries\":1.50,\n",
    "                \"Banana\":0.50,\n",
    "                \"Mango\":2.50,\n",
    "                \"Blueberries\":1.00,\n",
    "                \"Raspberries\" :1.00,\n",
    "                \"Apple\" :1.75,\n",
    "                \"Pineapple\" :3.50}\n",
    "        for i in self.ingredients:\n",
    "            s+=Ingre_price[i]\n",
    "        return \"$\"+str(s)\n",
    "    \n",
    "    def get_price(self):\n",
    "        \n",
    "        self.cost=float(self.get_cost()[1:])\n",
    "\n",
    "        \n",
    "        return \"$\"+ str (round((1.5*self.cost+self.cost),2))\n",
    "    \n",
    "    def get_name(self):\n",
    "        if len(self.ingredients)==1:\n",
    "            return str(self.ingredients[0])+\" Smoothie\"\n",
    "        else:\n",
    "            y=\"\"\n",
    "            for i in range(len(self.ingredients)):\n",
    "                y=y+\" \"+str(self.ingredients[i])\n",
    "                y=y.replace(\"erries\",\"erry\")\n",
    "            return y+\" Fusion\"\n",
    "        "
   ]
  },
  {
   "cell_type": "code",
   "execution_count": 4,
   "id": "9412e9a4",
   "metadata": {},
   "outputs": [],
   "source": [
    "p1=Smoothie([\"Banana\",\"Mango\",\"Blueberries\",\"Raspberries\"])"
   ]
  },
  {
   "cell_type": "code",
   "execution_count": 5,
   "id": "faf99355",
   "metadata": {},
   "outputs": [
    {
     "data": {
      "text/plain": [
       "'$12.5'"
      ]
     },
     "execution_count": 5,
     "metadata": {},
     "output_type": "execute_result"
    }
   ],
   "source": [
    "p1.get_price()"
   ]
  },
  {
   "cell_type": "code",
   "execution_count": 6,
   "id": "e5bd754c",
   "metadata": {},
   "outputs": [
    {
     "data": {
      "text/plain": [
       "' Banana Mango Blueberry Raspberry Fusion'"
      ]
     },
     "execution_count": 6,
     "metadata": {},
     "output_type": "execute_result"
    }
   ],
   "source": [
    "p1.get_name()"
   ]
  },
  {
   "cell_type": "code",
   "execution_count": 7,
   "id": "8d761945",
   "metadata": {},
   "outputs": [
    {
     "data": {
      "text/plain": [
       "'$5.0'"
      ]
     },
     "execution_count": 7,
     "metadata": {},
     "output_type": "execute_result"
    }
   ],
   "source": [
    "p1.get_cost()"
   ]
  },
  {
   "cell_type": "code",
   "execution_count": 8,
   "id": "469ef893",
   "metadata": {},
   "outputs": [
    {
     "data": {
      "text/plain": [
       "['Banana', 'Mango', 'Blueberries', 'Raspberries']"
      ]
     },
     "execution_count": 8,
     "metadata": {},
     "output_type": "execute_result"
    }
   ],
   "source": [
    "p1.ingredients"
   ]
  },
  {
   "cell_type": "code",
   "execution_count": null,
   "id": "25f94c61",
   "metadata": {},
   "outputs": [],
   "source": [
    "paper1 = Testpaper(\"Maths\", [\"1A\", \"2C\", \"3D\", \"4D\", \"5A\"], \"60%\")\n",
    "paper2 = Testpaper(\"Chemistry\", [\"1A\", \"2C\", \"3D\", \"4D\", \"5A\"], \"75%\")\n",
    "paper3 = Testpaper(\"Computing\",  [\"1A\", \"2C\", \"3D\", \"4D\", \"5A\"], \"75%\")\n",
    "student1 = Student()\n",
    "student2 = Student()\n",
    "student1.tests_taken ➞ \"No tests taken\"\n",
    "student1.take_test(paper1, [\"1A\", \"2C\", \"3D\", \"4D\", \"5A\"])\n",
    "student1.tests_taken ➞ {\"Maths\": \"Passed! (80%)\"}\n",
    "student2.take_test(paper2, [\"1A\", \"2C\", \"3D\", \"4D\", \"5A\"],)\n",
    "student2.take_test(paper3, [\"1A\", \"2C\", \"3D\", \"4D\", \"5A\"],)\n",
    "student2.tests_taken ➞ {\"Chemistry\" : \"Failed! (25%)\", \"Computing\" : \"Failed! (43%)\"}"
   ]
  },
  {
   "cell_type": "code",
   "execution_count": 221,
   "id": "da30c0d6",
   "metadata": {},
   "outputs": [],
   "source": [
    "class Testpaper:\n",
    "    def __init__(self,subject,markscheme,pass_mark):\n",
    "        \n",
    "        self.subject=subject\n",
    "        self.markscheme=markscheme\n",
    "        self.pass_mark=pass_mark\n",
    "    \n",
    "class Student(Testpaper):\n",
    "    def __init__(self):\n",
    "        self.tests_taken=\"NO test taken\"\n",
    "        self.d={}\n",
    "        \n",
    "    \n",
    "    def take_test(self,paper,marklist):\n",
    "        self.paper=paper\n",
    "        self.marklist=marklist\n",
    "        c=0\n",
    "        for i in self.marklist:\n",
    "            if i in self.paper.markscheme:\n",
    "                c+=1\n",
    "        perc=c*100/len(self.paper.markscheme)\n",
    "        if perc<int(self.paper.pass_mark[:-1]):\n",
    "            self.d[self.paper.subject]= \"Failed! (\"+str(perc)+\")%\"\n",
    "        else:\n",
    "            self.d[self.paper.subject]= \"Passed! (\"+str(perc)+\")%\"\n",
    "        self.tests_taken=self.d\n",
    "    \n",
    "\n",
    "        "
   ]
  },
  {
   "cell_type": "code",
   "execution_count": 222,
   "id": "bcbcf5dd",
   "metadata": {},
   "outputs": [],
   "source": [
    "paper1 = Testpaper(\"Maths\", [\"1A\", \"2C\", \"3D\", \"4D\", \"5A\"], \"60%\")"
   ]
  },
  {
   "cell_type": "code",
   "execution_count": 223,
   "id": "207cea5b",
   "metadata": {},
   "outputs": [],
   "source": [
    "paper2 = Testpaper(\"Chemistry\", [\"1A\", \"2C\", \"3D\", \"4D\", \"5A\"], \"75%\")\n",
    "paper3 = Testpaper(\"Computing\", [\"1A\", \"2D\", \"3D\", \"4D\", \"5A\"], \"80%\")"
   ]
  },
  {
   "cell_type": "code",
   "execution_count": 224,
   "id": "b8fa90e9",
   "metadata": {},
   "outputs": [],
   "source": [
    "student1 = Student()\n",
    "student2 = Student()"
   ]
  },
  {
   "cell_type": "code",
   "execution_count": 225,
   "id": "713207e6",
   "metadata": {},
   "outputs": [
    {
     "data": {
      "text/plain": [
       "'NO test taken'"
      ]
     },
     "execution_count": 225,
     "metadata": {},
     "output_type": "execute_result"
    }
   ],
   "source": [
    "student1.tests_taken\n"
   ]
  },
  {
   "cell_type": "code",
   "execution_count": 226,
   "id": "06899309",
   "metadata": {},
   "outputs": [],
   "source": [
    "student1.take_test(paper1, [\"1A\", \"2C\", \"3D\", \"4D\", \"5A\"])"
   ]
  },
  {
   "cell_type": "code",
   "execution_count": 227,
   "id": "4336e85a",
   "metadata": {},
   "outputs": [],
   "source": [
    "student1.take_test(paper2, [\"1A\", \"2C\", \"3A\", \"4D\", \"5B\"])"
   ]
  },
  {
   "cell_type": "code",
   "execution_count": 228,
   "id": "7767a1a7",
   "metadata": {},
   "outputs": [],
   "source": [
    "student1.take_test(paper2, [\"1A\", \"2C\", \"3A\", \"4D\", \"5B\"])"
   ]
  },
  {
   "cell_type": "code",
   "execution_count": 229,
   "id": "0270976e",
   "metadata": {},
   "outputs": [],
   "source": [
    "student1.take_test(paper3, [\"1A\", \"2D\", \"3D\", \"4D\", \"5B\"])"
   ]
  },
  {
   "cell_type": "code",
   "execution_count": 230,
   "id": "ceedd878",
   "metadata": {},
   "outputs": [
    {
     "data": {
      "text/plain": [
       "{'Maths': 'Passed! (100.0)%',\n",
       " 'Chemistry': 'Failed! (60.0)%',\n",
       " 'Computing': 'Passed! (80.0)%'}"
      ]
     },
     "execution_count": 230,
     "metadata": {},
     "output_type": "execute_result"
    }
   ],
   "source": [
    "student1.tests_taken"
   ]
  },
  {
   "cell_type": "code",
   "execution_count": 231,
   "id": "e0cbfe1c",
   "metadata": {},
   "outputs": [
    {
     "data": {
      "text/plain": [
       "'NO test taken'"
      ]
     },
     "execution_count": 231,
     "metadata": {},
     "output_type": "execute_result"
    }
   ],
   "source": [
    "student2.tests_taken"
   ]
  },
  {
   "cell_type": "code",
   "execution_count": 232,
   "id": "e7900b0e",
   "metadata": {},
   "outputs": [],
   "source": [
    "student2.take_test(paper3, [\"1A\", \"2D\", \"3D\", \"4D\", \"5B\"])"
   ]
  },
  {
   "cell_type": "code",
   "execution_count": 233,
   "id": "5376e26f",
   "metadata": {},
   "outputs": [
    {
     "data": {
      "text/plain": [
       "{'Computing': 'Passed! (80.0)%'}"
      ]
     },
     "execution_count": 233,
     "metadata": {},
     "output_type": "execute_result"
    }
   ],
   "source": [
    "student2.tests_taken"
   ]
  },
  {
   "cell_type": "code",
   "execution_count": 308,
   "id": "8a28d002",
   "metadata": {},
   "outputs": [],
   "source": [
    "class Rectangle:\n",
    "    def __init__(self,x,y,width,height):\n",
    "        self.coordinates=[[x,y],[x+width,y],[x+width,y-height],]\n",
    "        self.top_right=[x+width,y]\n",
    "        self.bottom_left=[x,y-height]\n",
    "        \n",
    "        \n",
    "        \n",
    "        \n",
    "        \n",
    "\n",
    "    \n",
    "def intersecting(a, b):\n",
    "    return not (a.top_right[0] < b.bottom_left[0] or a.bottom_left[0] > b.top_right[0] or\n",
    "                a.top_right[1] < b.bottom_left[1] or a.bottom_left[1] > b.top_right[1])\n",
    "        \n",
    "        \n",
    "    \n",
    "        "
   ]
  },
  {
   "cell_type": "code",
   "execution_count": 309,
   "id": "c54fa846",
   "metadata": {},
   "outputs": [],
   "source": [
    "a = Rectangle(10, 20, 100, 20)\n",
    "b = Rectangle(10, 40, 10, 20)\n",
    "c = Rectangle(50, 50, 20, 30)"
   ]
  },
  {
   "cell_type": "code",
   "execution_count": 310,
   "id": "4726a9c9",
   "metadata": {},
   "outputs": [
    {
     "data": {
      "text/plain": [
       "True"
      ]
     },
     "execution_count": 310,
     "metadata": {},
     "output_type": "execute_result"
    }
   ],
   "source": [
    "intersecting(a, c)"
   ]
  },
  {
   "cell_type": "code",
   "execution_count": 311,
   "id": "39d61ec6",
   "metadata": {},
   "outputs": [
    {
     "data": {
      "text/plain": [
       "False"
      ]
     },
     "execution_count": 311,
     "metadata": {},
     "output_type": "execute_result"
    }
   ],
   "source": [
    "intersects(b,c)"
   ]
  },
  {
   "cell_type": "code",
   "execution_count": 312,
   "id": "c97535df",
   "metadata": {},
   "outputs": [
    {
     "data": {
      "text/plain": [
       "True"
      ]
     },
     "execution_count": 312,
     "metadata": {},
     "output_type": "execute_result"
    }
   ],
   "source": [
    "intersecting(a, b)"
   ]
  },
  {
   "cell_type": "markdown",
   "id": "7f92381a",
   "metadata": {},
   "source": [
    "Q3 and Q4 not clear"
   ]
  },
  {
   "cell_type": "code",
   "execution_count": null,
   "id": "be07538f",
   "metadata": {},
   "outputs": [],
   "source": []
  }
 ],
 "metadata": {
  "kernelspec": {
   "display_name": "Python 3 (ipykernel)",
   "language": "python",
   "name": "python3"
  },
  "language_info": {
   "codemirror_mode": {
    "name": "ipython",
    "version": 3
   },
   "file_extension": ".py",
   "mimetype": "text/x-python",
   "name": "python",
   "nbconvert_exporter": "python",
   "pygments_lexer": "ipython3",
   "version": "3.9.7"
  }
 },
 "nbformat": 4,
 "nbformat_minor": 5
}
