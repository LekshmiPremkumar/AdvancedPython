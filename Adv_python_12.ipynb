{
 "cells": [
  {
   "cell_type": "code",
   "execution_count": 111,
   "id": "e35d2cce",
   "metadata": {},
   "outputs": [],
   "source": [
    "def meme_sum(a,b):\n",
    "    y=\"\"\n",
    "    diff=len(str(a))-len(str(b))\n",
    "\n",
    "    if diff==0:\n",
    "        for i in range(len(str(a))):\n",
    "            y=y+str(int(str(a)[i])+int(str(b)[i]))\n",
    "        \n",
    "    elif diff>0:\n",
    "        y+=str(a)[0:diff]\n",
    "        for i in range(len(str(a))-diff):\n",
    "            \n",
    "            y=y+str(int(str(a)[i+diff])+int(str(b)[i]))\n",
    "    else:\n",
    "        return meme_sum(b,a)\n",
    "       \n",
    "    return int(y)   \n",
    "        \n",
    "            "
   ]
  },
  {
   "cell_type": "code",
   "execution_count": 112,
   "id": "9179d20b",
   "metadata": {},
   "outputs": [
    {
     "data": {
      "text/plain": [
       "31499"
      ]
     },
     "execution_count": 112,
     "metadata": {},
     "output_type": "execute_result"
    }
   ],
   "source": [
    "meme_sum(1222,30277)\n"
   ]
  },
  {
   "cell_type": "code",
   "execution_count": 116,
   "id": "c8d63cfd",
   "metadata": {},
   "outputs": [],
   "source": [
    "def next_prime(n):\n",
    "    f=1\n",
    "    while f==1:\n",
    "        c=0\n",
    "        for i in range(2,int(n/2)+1):\n",
    "            if n%i==0:\n",
    "                c=1\n",
    "        if c==0:\n",
    "            f=1\n",
    "            return n\n",
    "        else:\n",
    "            n=n+1\n",
    "                \n",
    "            "
   ]
  },
  {
   "cell_type": "code",
   "execution_count": 119,
   "id": "fc1627bd",
   "metadata": {},
   "outputs": [
    {
     "data": {
      "text/plain": [
       "29"
      ]
     },
     "execution_count": 119,
     "metadata": {},
     "output_type": "execute_result"
    }
   ],
   "source": [
    "next_prime(24)"
   ]
  },
  {
   "cell_type": "code",
   "execution_count": 199,
   "id": "d3dda970",
   "metadata": {},
   "outputs": [],
   "source": [
    "def ave_spd(up_time,up_spd,dwn_spd):\n",
    "    up_time=up_time/60\n",
    "    dist=up_spd*up_time\n",
    "    dwn_time=dist/dwn_spd\n",
    "    \n",
    "    return int((2*dist)/((dist/dwn_spd)+(dist/up_spd)))"
   ]
  },
  {
   "cell_type": "code",
   "execution_count": 201,
   "id": "1a5cfbc7",
   "metadata": {},
   "outputs": [
    {
     "data": {
      "text/plain": [
       "15"
      ]
     },
     "execution_count": 201,
     "metadata": {},
     "output_type": "execute_result"
    }
   ],
   "source": [
    "ave_spd(30, 10, 30) "
   ]
  },
  {
   "cell_type": "code",
   "execution_count": 185,
   "id": "062b83e4",
   "metadata": {},
   "outputs": [],
   "source": [
    "import math\n",
    "def kempner(n):\n",
    "    for i in range(1,n+1):\n",
    "        if math.factorial(i)%n==0:\n",
    "            return i\n",
    "    "
   ]
  },
  {
   "cell_type": "code",
   "execution_count": 186,
   "id": "89605f76",
   "metadata": {},
   "outputs": [
    {
     "data": {
      "text/plain": [
       "5"
      ]
     },
     "execution_count": 186,
     "metadata": {},
     "output_type": "execute_result"
    }
   ],
   "source": [
    "kempner(10)"
   ]
  },
  {
   "cell_type": "code",
   "execution_count": 159,
   "id": "f61cf5e2",
   "metadata": {},
   "outputs": [],
   "source": [
    "def boxes(n):\n",
    "    s=0\n",
    "    c=0\n",
    "    for i in n:\n",
    "        if s+i>=10:\n",
    "            c=c+1\n",
    "            s=0\n",
    "        else:\n",
    "            s=s+i\n",
    "        \n",
    "    return s\n",
    "    "
   ]
  },
  {
   "cell_type": "code",
   "execution_count": 160,
   "id": "726dc49d",
   "metadata": {},
   "outputs": [
    {
     "data": {
      "text/plain": [
       "5"
      ]
     },
     "execution_count": 160,
     "metadata": {},
     "output_type": "execute_result"
    }
   ],
   "source": [
    "boxes([2, 1, 2, 5, 4, 3, 6, 1, 1, 9, 3, 2])"
   ]
  },
  {
   "cell_type": "code",
   "execution_count": null,
   "id": "55b9da04",
   "metadata": {},
   "outputs": [],
   "source": []
  }
 ],
 "metadata": {
  "kernelspec": {
   "display_name": "Python 3 (ipykernel)",
   "language": "python",
   "name": "python3"
  },
  "language_info": {
   "codemirror_mode": {
    "name": "ipython",
    "version": 3
   },
   "file_extension": ".py",
   "mimetype": "text/x-python",
   "name": "python",
   "nbconvert_exporter": "python",
   "pygments_lexer": "ipython3",
   "version": "3.9.7"
  }
 },
 "nbformat": 4,
 "nbformat_minor": 5
}
