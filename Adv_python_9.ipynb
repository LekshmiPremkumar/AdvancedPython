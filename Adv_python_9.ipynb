{
 "cells": [
  {
   "cell_type": "code",
   "execution_count": 32,
   "id": "7234716d",
   "metadata": {},
   "outputs": [],
   "source": [
    "def playback_duration(tim,n):\n",
    "    l=[0,0,0]\n",
    "    time=tim.split(\":\")\n",
    "    t=60*60*int(time[0])+60*int(time[1])+int(time[2])\n",
    "    newt=t/n\n",
    "    #print(t/int(n))\n",
    "    while newt!=0:\n",
    "        if newt>=3600:\n",
    "            l[0]=newt//3600\n",
    "            newt=newt%3600\n",
    "        elif newt>=60:\n",
    "            l[1]=newt//60\n",
    "            newt=newt%60\n",
    "        else:\n",
    "            l[2]= newt\n",
    "            newt=0\n",
    "    for i in range(len(l)):\n",
    "        l[i]=str(int(l[i]))\n",
    "        \n",
    "    return (\":\").join(l)\n",
    "        "
   ]
  },
  {
   "cell_type": "code",
   "execution_count": 33,
   "id": "a427ded8",
   "metadata": {},
   "outputs": [
    {
     "data": {
      "text/plain": [
       "'102:40:18'"
      ]
     },
     "execution_count": 33,
     "metadata": {},
     "output_type": "execute_result"
    }
   ],
   "source": [
    "playback_duration(\"51:20:09\", 0.5)\n"
   ]
  },
  {
   "cell_type": "code",
   "execution_count": 65,
   "id": "967c4346",
   "metadata": {},
   "outputs": [],
   "source": [
    "import cmath\n",
    "def pile_of_cubes(n): #sum= (1/4)*n^2(n+1)^2\n",
    "    a=1\n",
    "    b=1\n",
    "    c=-2*math.sqrt(n)\n",
    "  \n",
    "\n",
    "    #sol1 = (-b-math.sqrt((b**2) - (4*a*c)))/(2*a)\n",
    "    sol2 = (-b+math.sqrt((b**2) - (4*a*c)))/(2*a)# n will be positive \n",
    "    return int(sol2)"
   ]
  },
  {
   "cell_type": "code",
   "execution_count": 66,
   "id": "c434977f",
   "metadata": {},
   "outputs": [
    {
     "data": {
      "text/plain": [
       "2022"
      ]
     },
     "execution_count": 66,
     "metadata": {},
     "output_type": "execute_result"
    }
   ],
   "source": [
    "pile_of_cubes(4183059834009)"
   ]
  },
  {
   "cell_type": "code",
   "execution_count": 85,
   "id": "119e49cc",
   "metadata": {},
   "outputs": [],
   "source": [
    "def fulcrum(n):\n",
    "    for i in range(1,len(n)):\n",
    "        s1=[0]\n",
    "        t1=[s1.append(s1[j]+n[j]) for j in range(0,i)]\n",
    "        s2=[0]\n",
    "        t2=[s2.append(s2[k-i-1]+n[k]) for k in range(i+1,len(n))]\n",
    "        if s1[len(s1)-1]==s2[len(s2)-1] :\n",
    "            return n[i]\n",
    "    return \"none\"\n",
    "            "
   ]
  },
  {
   "cell_type": "code",
   "execution_count": 89,
   "id": "3cc3319f",
   "metadata": {},
   "outputs": [
    {
     "data": {
      "text/plain": [
       "0"
      ]
     },
     "execution_count": 89,
     "metadata": {},
     "output_type": "execute_result"
    }
   ],
   "source": [
    "n=[8,9,10,1,10,9,8]\n",
    "fulcrum([7, -1, 0, -1, 1, 1, 2, 3])"
   ]
  },
  {
   "cell_type": "code",
   "execution_count": 136,
   "id": "cb72f6b3",
   "metadata": {},
   "outputs": [],
   "source": [
    "def sock(l):\n",
    "    d={}\n",
    "    for i in l:\n",
    "        if i in d:\n",
    "            d[i]+=1\n",
    "        else:\n",
    "            d[i]=1\n",
    "    s=0\n",
    "    for i in d:\n",
    "            s+=(d[i]//2)\n",
    "    return s"
   ]
  },
  {
   "cell_type": "code",
   "execution_count": 137,
   "id": "f6472abf",
   "metadata": {},
   "outputs": [
    {
     "data": {
      "text/plain": [
       "4"
      ]
     },
     "execution_count": 137,
     "metadata": {},
     "output_type": "execute_result"
    }
   ],
   "source": [
    "sock([50, 20, 30, 90, 30, 20, 50, 20, 90])"
   ]
  },
  {
   "cell_type": "code",
   "execution_count": 101,
   "id": "f0e8a4b9",
   "metadata": {},
   "outputs": [],
   "source": [
    "import re\n",
    "def negative_sum(n):\n",
    "    pattern=re.compile(r'[-][0-9][0-9]')# detects only 2 digit -ve nos.how can we implement this to find nos of any length \n",
    "    matches= pattern.findall(n)\n",
    "    s=0\n",
    "    for i in matches:\n",
    "        #print(i)\n",
    "        s+=int(i)\n",
    "\n",
    "    return s\n"
   ]
  },
  {
   "cell_type": "code",
   "execution_count": 102,
   "id": "0d0aef3f",
   "metadata": {},
   "outputs": [
    {
     "data": {
      "text/plain": [
       "-33"
      ]
     },
     "execution_count": 102,
     "metadata": {},
     "output_type": "execute_result"
    }
   ],
   "source": [
    "#negative_sum(\"-12 13%14&-11\")\n",
    "\n",
    "negative_sum(\"22 13%14&-11-22 13 12\")"
   ]
  },
  {
   "cell_type": "code",
   "execution_count": null,
   "id": "e3b1dde8",
   "metadata": {},
   "outputs": [],
   "source": []
  }
 ],
 "metadata": {
  "kernelspec": {
   "display_name": "Python 3 (ipykernel)",
   "language": "python",
   "name": "python3"
  },
  "language_info": {
   "codemirror_mode": {
    "name": "ipython",
    "version": 3
   },
   "file_extension": ".py",
   "mimetype": "text/x-python",
   "name": "python",
   "nbconvert_exporter": "python",
   "pygments_lexer": "ipython3",
   "version": "3.9.7"
  }
 },
 "nbformat": 4,
 "nbformat_minor": 5
}
