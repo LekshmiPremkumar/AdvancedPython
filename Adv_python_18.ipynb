{
 "cells": [
  {
   "cell_type": "code",
   "execution_count": 16,
   "id": "46d78e00",
   "metadata": {},
   "outputs": [],
   "source": [
    "import re\n",
    "def track_robot(n):\n",
    "    h=0\n",
    "    v=0\n",
    "    for i in range(len(n)):\n",
    "        dist=re.findall(r'[0-9]*[0-9]',n[i])\n",
    "        dist=int(dist[0])\n",
    "    \n",
    "        if  \"right\" in n[i]:\n",
    "            h+=dist\n",
    "        elif \"left\" in n[i]:\n",
    "            h-=dist\n",
    "        elif \"up\" in n[i]:\n",
    "            v+=dist\n",
    "        else:\n",
    "            v-=dist\n",
    "    return [h,v]\n",
    "        "
   ]
  },
  {
   "cell_type": "code",
   "execution_count": 19,
   "id": "4e8bb405",
   "metadata": {},
   "outputs": [
    {
     "data": {
      "text/plain": [
       "[200, 10500]"
      ]
     },
     "execution_count": 19,
     "metadata": {},
     "output_type": "execute_result"
    }
   ],
   "source": [
    "track_robot([\"right 100\",\"right 100\",\"up 500\",\"up 10000\"])"
   ]
  },
  {
   "cell_type": "code",
   "execution_count": 20,
   "id": "4e923513",
   "metadata": {},
   "outputs": [
    {
     "data": {
      "text/plain": [
       "[0, 0]"
      ]
     },
     "execution_count": 20,
     "metadata": {},
     "output_type": "execute_result"
    }
   ],
   "source": [
    "track_robot([])"
   ]
  },
  {
   "cell_type": "code",
   "execution_count": 23,
   "id": "8e2e74bc",
   "metadata": {},
   "outputs": [],
   "source": [
    "def find_longest(n):\n",
    "    y=n.split(\" \")\n",
    "    l=[]\n",
    "    for i in y:\n",
    "        l.append(len(i))\n",
    "    maxi=max(l)\n",
    "    ind=l.index(maxi)\n",
    "    return y[ind]"
   ]
  },
  {
   "cell_type": "code",
   "execution_count": 26,
   "id": "47bd7ced",
   "metadata": {},
   "outputs": [
    {
     "data": {
      "text/plain": [
       "'\"Strengths\"'"
      ]
     },
     "execution_count": 26,
     "metadata": {},
     "output_type": "execute_result"
    }
   ],
   "source": [
    "find_longest(\"Forgetfulness is by all means powerless!\")\n",
    "find_longest(\"\\\"Strengths\\\" is the longest and most commonly used word that contains only a single vowel.\")"
   ]
  },
  {
   "cell_type": "code",
   "execution_count": null,
   "id": "972fcf41",
   "metadata": {},
   "outputs": [],
   "source": [
    "Create a function to check if a candidate is qualified in an imaginary coding\n",
    "interview of an imaginary tech startup.\n",
    "The criteria for a candidate to be qualified in the coding interview is:\n",
    "1. The candidate should have complete all the questions.\n",
    "2. The maximum time given to complete the interview is 120 minutes.\n",
    "3. The maximum time given for very easy questions is 5 minutes each.\n",
    "4. The maximum time given for easy questions is 10 minutes each.\n",
    "5. The maximum time given for medium questions is 15 minutes each.\n",
    "6. The maximum time given for hard questions is 20 minutes each."
   ]
  },
  {
   "cell_type": "code",
   "execution_count": 151,
   "id": "eec2a0ad",
   "metadata": {},
   "outputs": [],
   "source": [
    "def interview(n,a):\n",
    "    veryeasy=n[0]+n[1]\n",
    "    easy=n[2]+n[3]\n",
    "    medium=n[4]+n[5]\n",
    "    hard=n[6]+n[7]\n",
    "    if len(n)<8:\n",
    "        return \"disqualified\"\n",
    "    if n[0]+n[1] > 10:\n",
    "        return \"disqualified\"\n",
    "    if n[2]+n[3]>20:\n",
    "        return \"disqualified\"\n",
    "    if n[4]+n[5]>30:\n",
    "        return \"disqualified\"\n",
    "    if n[6]+n[7]>40:\n",
    "        return \"disqualified\"\n",
    "    if a>120:\n",
    "        return \"disqualified\"\n",
    "    return \"qualified\"\n",
    "    \n",
    "    "
   ]
  },
  {
   "cell_type": "code",
   "execution_count": 152,
   "id": "e7c817af",
   "metadata": {},
   "outputs": [
    {
     "data": {
      "text/plain": [
       "'disqualified'"
      ]
     },
     "execution_count": 152,
     "metadata": {},
     "output_type": "execute_result"
    }
   ],
   "source": [
    "interview([5, 5, 10, 10, 25, 15, 20, 20], 120)"
   ]
  },
  {
   "cell_type": "code",
   "execution_count": 149,
   "id": "e780f9ec",
   "metadata": {},
   "outputs": [
    {
     "data": {
      "text/plain": [
       "'qualified'"
      ]
     },
     "execution_count": 149,
     "metadata": {},
     "output_type": "execute_result"
    }
   ],
   "source": [
    "interview([5, 5, 10, 10, 15, 15, 20, 20], 120)"
   ]
  },
  {
   "cell_type": "code",
   "execution_count": 59,
   "id": "5b0542ea",
   "metadata": {},
   "outputs": [],
   "source": [
    "def chunkify(l,n):\n",
    "    k=[]\n",
    "    for i in range(0,len(l),n):\n",
    "        \n",
    "        if len(l)-i < n:\n",
    "            k.extend(l[i:])\n",
    "            return k\n",
    "        else:\n",
    "            t=[ l[i+j] for j in range(n)]\n",
    "            k.append(t)\n",
    "    return k\n",
    "     "
   ]
  },
  {
   "cell_type": "code",
   "execution_count": 62,
   "id": "4232ef94",
   "metadata": {},
   "outputs": [
    {
     "data": {
      "text/plain": [
       "[[1, 2, 3, 4, 5, 6, 7], 8]"
      ]
     },
     "execution_count": 62,
     "metadata": {},
     "output_type": "execute_result"
    }
   ],
   "source": [
    "chunkify([1,2,3,4,5,6,7,8],7)"
   ]
  },
  {
   "cell_type": "code",
   "execution_count": 142,
   "id": "b7977fe9",
   "metadata": {},
   "outputs": [],
   "source": [
    "import re\n",
    "def get_prices(n):\n",
    "    l=[]\n",
    "    for i in n:\n",
    "        rs= re.findall(r'[0-9]*[0-9][.][0-9]*[0-9]',i)\n",
    "        l.append(float(rs[0]))\n",
    "    return l\n",
    "    "
   ]
  },
  {
   "cell_type": "code",
   "execution_count": 143,
   "id": "4485d477",
   "metadata": {},
   "outputs": [
    {
     "data": {
      "text/plain": [
       "[5.99, 0.2, 8.5, 1.99]"
      ]
     },
     "execution_count": 143,
     "metadata": {},
     "output_type": "execute_result"
    }
   ],
   "source": [
    "get_prices([\n",
    "\"ice cream ($5.99)\",\n",
    "\"banana ($0.20)\",\n",
    "\"sandwich ($8.50)\",\n",
    "\"soup ($1.99)\"\n",
    "])"
   ]
  }
 ],
 "metadata": {
  "kernelspec": {
   "display_name": "Python 3 (ipykernel)",
   "language": "python",
   "name": "python3"
  },
  "language_info": {
   "codemirror_mode": {
    "name": "ipython",
    "version": 3
   },
   "file_extension": ".py",
   "mimetype": "text/x-python",
   "name": "python",
   "nbconvert_exporter": "python",
   "pygments_lexer": "ipython3",
   "version": "3.9.7"
  }
 },
 "nbformat": 4,
 "nbformat_minor": 5
}
