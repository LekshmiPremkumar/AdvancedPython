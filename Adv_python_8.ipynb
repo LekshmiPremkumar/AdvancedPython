{
 "cells": [
  {
   "cell_type": "code",
   "execution_count": 1,
   "id": "433e8dc4",
   "metadata": {},
   "outputs": [],
   "source": [
    "def vowel_links(lis):\n",
    "    n=lis.split(\" \")\n",
    "    for i in range(1,len(n)):\n",
    "        if n[i-1][-1] in [\"a\",\"e\",\"i\",\"o\",\"u\"] and n[i][0] in [\"a\",\"e\",\"i\",\"o\",\"u\"]:\n",
    "            return True\n",
    "    return False"
   ]
  },
  {
   "cell_type": "code",
   "execution_count": 2,
   "id": "3cfa9818",
   "metadata": {},
   "outputs": [
    {
     "data": {
      "text/plain": [
       "True"
      ]
     },
     "execution_count": 2,
     "metadata": {},
     "output_type": "execute_result"
    }
   ],
   "source": [
    "n=\"a blie eb\"\n",
    "vowel_links(n)"
   ]
  },
  {
   "cell_type": "code",
   "execution_count": 14,
   "id": "104b9fc9",
   "metadata": {},
   "outputs": [],
   "source": [
    "\n",
    "def first_before_second(n,a,b):\n",
    "    l=list(n)\n",
    "    d={}\n",
    "    for i in range(len(l)):\n",
    "        if l[i]==a :\n",
    "            if a in d:\n",
    "                d[a].append(i)\n",
    "            else:\n",
    "                d[a]=[]\n",
    "                d[a].append(i)\n",
    "        elif l[i]==b: \n",
    "            if b in d:\n",
    "                d[b].append(i)\n",
    "            else:\n",
    "                d[b]=[]\n",
    "                d[b].append(i)\n",
    "    #print(d)\n",
    "    if max(d[a])<min(d[b]):\n",
    "        return True\n",
    "    else:\n",
    "        return False\n",
    "                \n",
    "    \n",
    "    "
   ]
  },
  {
   "cell_type": "code",
   "execution_count": 15,
   "id": "214456b2",
   "metadata": {},
   "outputs": [
    {
     "data": {
      "text/plain": [
       "True"
      ]
     },
     "execution_count": 15,
     "metadata": {},
     "output_type": "execute_result"
    }
   ],
   "source": [
    "#first_before_second(n,a,b)\n",
    "first_before_second(\"a rabbit jumps joyfully\", \"b\", \"j\")"
   ]
  },
  {
   "cell_type": "code",
   "execution_count": 30,
   "id": "15c3d1e1",
   "metadata": {},
   "outputs": [],
   "source": [
    "def char_at_pos(l,n):\n",
    "    ll=[]\n",
    "    if type(l)==str:\n",
    "        l=list(l)\n",
    "    if n==\"even\":\n",
    "        for i in range(len(l)):\n",
    "            print(i+1)\n",
    "            if (i+1)%2==0:\n",
    "                ll.append(l[i])\n",
    "    elif n==\"odd\":\n",
    "        for i in range(len(l)):\n",
    "            if (i+1)%2!=0:\n",
    "                ll.append(l[i])\n",
    "    return ll\n",
    "        \n",
    "            "
   ]
  },
  {
   "cell_type": "code",
   "execution_count": 34,
   "id": "2ec6ef9e",
   "metadata": {},
   "outputs": [
    {
     "data": {
      "text/plain": [
       "['A', 'B', 'T', 'A', 'I', 'Y']"
      ]
     },
     "execution_count": 34,
     "metadata": {},
     "output_type": "execute_result"
    }
   ],
   "source": [
    "char_at_pos([\"A\",\"R\",\"B\",\"I\",\"T\",\"R\",\"A\",\"R\",\"I\",\"L\",\"Y\"],\"odd\")"
   ]
  },
  {
   "cell_type": "code",
   "execution_count": 54,
   "id": "08694518",
   "metadata": {},
   "outputs": [],
   "source": [
    "def hcf(a,b):\n",
    "    if b==0:\n",
    "        return a\n",
    "    else:\n",
    "        return hcf(b,a%b)"
   ]
  },
  {
   "cell_type": "code",
   "execution_count": 55,
   "id": "98e50135",
   "metadata": {},
   "outputs": [],
   "source": [
    "\n",
    "def GCD_n(l):\n",
    "    a=l[0]\n",
    "    for i in l:\n",
    "        b=i\n",
    "        a=hcf(a,b)\n",
    "    return a\n",
    "    "
   ]
  },
  {
   "cell_type": "code",
   "execution_count": 56,
   "id": "81b2b9fe",
   "metadata": {},
   "outputs": [
    {
     "data": {
      "text/plain": [
       "64"
      ]
     },
     "execution_count": 56,
     "metadata": {},
     "output_type": "execute_result"
    }
   ],
   "source": [
    "l=[1024, 192, 2048, 512]\n",
    "GCD_n(l)"
   ]
  },
  {
   "cell_type": "code",
   "execution_count": 59,
   "id": "1f05f81e",
   "metadata": {},
   "outputs": [],
   "source": [
    "def binary(n):\n",
    "    if n==1:\n",
    "        return 1\n",
    "    if n==0:\n",
    "        return 0\n",
    "    return n%2+ 10*binary(n//2)\n",
    "\n",
    "\n",
    "    "
   ]
  },
  {
   "cell_type": "code",
   "execution_count": 60,
   "id": "e3e751f0",
   "metadata": {},
   "outputs": [
    {
     "data": {
      "text/plain": [
       "1010"
      ]
     },
     "execution_count": 60,
     "metadata": {},
     "output_type": "execute_result"
    }
   ],
   "source": [
    "binary(10)"
   ]
  },
  {
   "cell_type": "code",
   "execution_count": 92,
   "id": "3c1e4194",
   "metadata": {},
   "outputs": [
    {
     "data": {
      "text/plain": [
       "1"
      ]
     },
     "execution_count": 92,
     "metadata": {},
     "output_type": "execute_result"
    }
   ],
   "source": [
    "int(1.5)"
   ]
  },
  {
   "cell_type": "code",
   "execution_count": 108,
   "id": "d03e1142",
   "metadata": {},
   "outputs": [],
   "source": [
    "def palindrome_type(n):\n",
    "    l=list(str(n))\n",
    "    d=0\n",
    "    nd=len(l)\n",
    "    for i in range(int(nd/2)):\n",
    "        if l[i]!=l[nd-i-1]:\n",
    "            d=1\n",
    "    \n",
    "    \n",
    "    y=list(str(binary(n)))\n",
    "    nb=len(y)\n",
    "    b=0\n",
    "    for j in range(1,int(nb/2)):\n",
    "        if y[j]!=y[len(y)-j-1]:\n",
    "            b=1\n",
    "            \n",
    "    if d==0 and b==0:\n",
    "        return \"decimal and binary\"\n",
    "    elif d==0 and b==1:\n",
    "        return \"decimal only\"\n",
    "    elif d==1 and b==0:\n",
    "        return \"binary only\"\n",
    "    else:\n",
    "        return \"neither\"\n",
    "    \n",
    "            "
   ]
  },
  {
   "cell_type": "code",
   "execution_count": 110,
   "id": "c75718a6",
   "metadata": {},
   "outputs": [
    {
     "data": {
      "text/plain": [
       "'binary only'"
      ]
     },
     "execution_count": 110,
     "metadata": {},
     "output_type": "execute_result"
    }
   ],
   "source": [
    "palindrome_type(427787)"
   ]
  },
  {
   "cell_type": "code",
   "execution_count": null,
   "id": "eacdcb80",
   "metadata": {},
   "outputs": [],
   "source": []
  }
 ],
 "metadata": {
  "kernelspec": {
   "display_name": "Python 3 (ipykernel)",
   "language": "python",
   "name": "python3"
  },
  "language_info": {
   "codemirror_mode": {
    "name": "ipython",
    "version": 3
   },
   "file_extension": ".py",
   "mimetype": "text/x-python",
   "name": "python",
   "nbconvert_exporter": "python",
   "pygments_lexer": "ipython3",
   "version": "3.9.7"
  }
 },
 "nbformat": 4,
 "nbformat_minor": 5
}
