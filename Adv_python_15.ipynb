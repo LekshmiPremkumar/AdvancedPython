{
 "cells": [
  {
   "cell_type": "code",
   "execution_count": 17,
   "id": "67690aaa",
   "metadata": {},
   "outputs": [],
   "source": [
    "def anagram(a,l):\n",
    "    a=a.lower()\n",
    "    a=a.replace(\" \",\"\")\n",
    "    d={}\n",
    "    k={}\n",
    "    A=list(a)\n",
    "    print(A)\n",
    "    for i in A:\n",
    "        if i in d:\n",
    "            d[i]+=1\n",
    "        else:\n",
    "            d[i]=1\n",
    "    y=\"\"\n",
    "    for j in l:\n",
    "        y+=j\n",
    "    ll=list(y)\n",
    "    for j in ll:\n",
    "        if j in k:\n",
    "            k[j]+=1\n",
    "        else:\n",
    "            k[j]=1\n",
    "    for j in k:\n",
    "        if d[j]!=k[j]:\n",
    "            return False\n",
    "    return True\n",
    "    "
   ]
  },
  {
   "cell_type": "code",
   "execution_count": 20,
   "id": "0345d895",
   "metadata": {},
   "outputs": [
    {
     "name": "stdout",
     "output_type": "stream",
     "text": [
      "['j', 'u', 's', 't', 'i', 'n', 'b', 'i', 'e', 'b', 'e', 'r']\n"
     ]
    },
    {
     "data": {
      "text/plain": [
       "True"
      ]
     },
     "execution_count": 20,
     "metadata": {},
     "output_type": "execute_result"
    }
   ],
   "source": [
    "anagram(\"Justin Bieber\", [\"injures\", \"ebb\", \"it\"])"
   ]
  },
  {
   "cell_type": "code",
   "execution_count": 21,
   "id": "c57bd322",
   "metadata": {},
   "outputs": [
    {
     "name": "stdout",
     "output_type": "stream",
     "text": [
      "['c', 'h', 'r', 'i', 's', 'p', 'r', 'a', 't', 't']\n"
     ]
    },
    {
     "data": {
      "text/plain": [
       "False"
      ]
     },
     "execution_count": 21,
     "metadata": {},
     "output_type": "execute_result"
    }
   ],
   "source": [
    "anagram(\"Chris Pratt\", [\"chirps\", \"rat\"])"
   ]
  },
  {
   "cell_type": "code",
   "execution_count": 180,
   "id": "24d48279",
   "metadata": {},
   "outputs": [],
   "source": [
    "def leaderboards(lis):\n",
    "    \n",
    "    for d in lis:\n",
    "        d[\"score\"]=d[\"score\"]+2*d[\"reputation\"]    \n",
    "    l=[]\n",
    "    for j in lis:\n",
    "        maximum=0\n",
    "        for d in range(len(lis)):\n",
    "            if lis[d] not in l:\n",
    "                \n",
    "                if (maximum<lis[d][\"score\"]):\n",
    "                    maximum=lis[d][\"score\"]\n",
    "                    max_d=lis[d]\n",
    "       \n",
    "        l.append(max_d.copy())\n",
    "        max_d[\"score\"]=0\n",
    "        \n",
    "        \n",
    "        \n",
    "        \n",
    "        \n",
    "    return l\n",
    "    \n",
    "    "
   ]
  },
  {
   "cell_type": "code",
   "execution_count": 181,
   "id": "18c37638",
   "metadata": {},
   "outputs": [
    {
     "data": {
      "text/plain": [
       "[{'name': 'def', 'score': 160, 'reputation': 30},\n",
       " {'name': 'abc', 'score': 140, 'reputation': 20}]"
      ]
     },
     "execution_count": 181,
     "metadata": {},
     "output_type": "execute_result"
    }
   ],
   "source": [
    "n=[{\"name\":\"abc\",\"score\":100,\"reputation\":20},\n",
    "  {\"name\":\"def\",\"score\":100,\"reputation\":30}\n",
    "  {\"name\"}]\n",
    "\n",
    "leaderboards(n)"
   ]
  },
  {
   "cell_type": "code",
   "execution_count": 50,
   "id": "8a3ba15b",
   "metadata": {},
   "outputs": [],
   "source": [
    "def hangman(s,n):\n",
    "    l=list(s)\n",
    "    n.append(\" \")\n",
    "    y=\"\"\n",
    "    for i in l:\n",
    "        if i.lower() in n:\n",
    "            y+=i\n",
    "        else:\n",
    "            y+=\"-\"\n",
    "    return y\n",
    "        "
   ]
  },
  {
   "cell_type": "code",
   "execution_count": 51,
   "id": "d3f9c8ac",
   "metadata": {},
   "outputs": [
    {
     "data": {
      "text/plain": [
       "'-e---o--e-'"
      ]
     },
     "execution_count": 51,
     "metadata": {},
     "output_type": "execute_result"
    }
   ],
   "source": [
    "hangman(\"helicopter\",[\"o\",\"e\"])"
   ]
  },
  {
   "cell_type": "code",
   "execution_count": 52,
   "id": "ce576889",
   "metadata": {},
   "outputs": [
    {
     "data": {
      "text/plain": [
       "'P----n r----'"
      ]
     },
     "execution_count": 52,
     "metadata": {},
     "output_type": "execute_result"
    }
   ],
   "source": [
    "hangman(\"Python rules\", [\"a\", \"n\", \"p\", \"r\", \"z\"])"
   ]
  },
  {
   "cell_type": "code",
   "execution_count": 53,
   "id": "18ff98cd",
   "metadata": {},
   "outputs": [],
   "source": [
    "def Collatz(n):\n",
    "    l=[]\n",
    "    while n!=1:\n",
    "        l.append(n)\n",
    "        if n%2==0:\n",
    "            n=n/2\n",
    "        else:\n",
    "            n=n*3 +1  \n",
    "    return max(l)\n",
    "        \n",
    "        "
   ]
  },
  {
   "cell_type": "code",
   "execution_count": 56,
   "id": "bbf9d73f",
   "metadata": {},
   "outputs": [
    {
     "data": {
      "text/plain": [
       "256"
      ]
     },
     "execution_count": 56,
     "metadata": {},
     "output_type": "execute_result"
    }
   ],
   "source": [
    "Collatz(85)"
   ]
  },
  {
   "cell_type": "code",
   "execution_count": 93,
   "id": "e47fc663",
   "metadata": {},
   "outputs": [],
   "source": [
    "def digit_sort(n):\n",
    "    for i in range(len(n)):\n",
    "        for j in range(0,len(n)-i-1):\n",
    "            if len(str(n[j]))<len(str(n[j+1])):\n",
    "                t=n[j+1]\n",
    "                n[j+1]=n[j]\n",
    "                n[j]=t\n",
    "            elif len(str(n[j]))==len(str(n[j+1])):\n",
    "                if n[j]>n[j+1]:\n",
    "                    t=n[j+1]\n",
    "                    n[j+1]=n[j]\n",
    "                    n[j]=t\n",
    "    return n"
   ]
  },
  {
   "cell_type": "code",
   "execution_count": 94,
   "id": "a3440a1f",
   "metadata": {},
   "outputs": [
    {
     "data": {
      "text/plain": [
       "[1345, 123, 23]"
      ]
     },
     "execution_count": 94,
     "metadata": {},
     "output_type": "execute_result"
    }
   ],
   "source": [
    "digit_sort([123,1345,23])"
   ]
  },
  {
   "cell_type": "code",
   "execution_count": 95,
   "id": "9a51467a",
   "metadata": {},
   "outputs": [
    {
     "data": {
      "text/plain": [
       "[53219, 3772, 564, 32, 1]"
      ]
     },
     "execution_count": 95,
     "metadata": {},
     "output_type": "execute_result"
    }
   ],
   "source": [
    "digit_sort([53219, 3772, 564, 32, 1])"
   ]
  },
  {
   "cell_type": "code",
   "execution_count": 96,
   "id": "128d1af1",
   "metadata": {},
   "outputs": [
    {
     "data": {
      "text/plain": [
       "[444, 563, 789, 1, 2, 5, 9]"
      ]
     },
     "execution_count": 96,
     "metadata": {},
     "output_type": "execute_result"
    }
   ],
   "source": [
    "digit_sort([1, 5, 9, 2, 789, 563, 444])"
   ]
  },
  {
   "cell_type": "code",
   "execution_count": null,
   "id": "20b4a9f7",
   "metadata": {},
   "outputs": [],
   "source": [
    "168,94"
   ]
  }
 ],
 "metadata": {
  "kernelspec": {
   "display_name": "Python 3 (ipykernel)",
   "language": "python",
   "name": "python3"
  },
  "language_info": {
   "codemirror_mode": {
    "name": "ipython",
    "version": 3
   },
   "file_extension": ".py",
   "mimetype": "text/x-python",
   "name": "python",
   "nbconvert_exporter": "python",
   "pygments_lexer": "ipython3",
   "version": "3.9.7"
  }
 },
 "nbformat": 4,
 "nbformat_minor": 5
}
