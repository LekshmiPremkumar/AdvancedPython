{
 "cells": [
  {
   "cell_type": "code",
   "execution_count": 2,
   "id": "1886ef6c",
   "metadata": {},
   "outputs": [],
   "source": [
    "#Python Program to Transpose a Matrix\n",
    "\n",
    "def transpose_matrix(A):\n",
    "    S = [[ 0 for x in range (len(A))] for y in range(len(A[0]))]\n",
    "    #print(S)\n",
    "    S = [[ A[x][y] for x in range (len(A))] for y in range(len(A[0]))]\n",
    "    '''for i in range(len(A[0])):\n",
    "        for j in range(len(A)):\n",
    "            S[i][j]=A[j][i]'''\n",
    "    \n",
    "    return S\n",
    "    "
   ]
  },
  {
   "cell_type": "code",
   "execution_count": 4,
   "id": "8e062cd8",
   "metadata": {},
   "outputs": [
    {
     "data": {
      "text/plain": [
       "[[1, 2, 3], [1, 2, 3]]"
      ]
     },
     "execution_count": 4,
     "metadata": {},
     "output_type": "execute_result"
    }
   ],
   "source": [
    "transpose_matrix([\n",
    "[1,  1],\n",
    "[2,  2],\n",
    "[3,  3]\n",
    "])"
   ]
  },
  {
   "cell_type": "code",
   "execution_count": 17,
   "id": "02788a77",
   "metadata": {},
   "outputs": [],
   "source": [
    "def isHexcode(n):\n",
    "    if n[0]==\"#\" and len(n)==7:\n",
    "        for i in range(1,len(n)):\n",
    "            if ord(n[i]) in range(0,10):\n",
    "                break\n",
    "                \n",
    "            elif ord(n[i])  in range(65, 91):\n",
    "                break\n",
    "            else:\n",
    "                return False\n",
    "        return True\n",
    "    \n",
    "    else:\n",
    "        return False"
   ]
  },
  {
   "cell_type": "code",
   "execution_count": 19,
   "id": "6e367482",
   "metadata": {},
   "outputs": [
    {
     "data": {
      "text/plain": [
       "False"
      ]
     },
     "execution_count": 19,
     "metadata": {},
     "output_type": "execute_result"
    }
   ],
   "source": [
    "isHexcode(\"#CD5C58C\")"
   ]
  },
  {
   "cell_type": "code",
   "execution_count": 125,
   "id": "de52d2a6",
   "metadata": {},
   "outputs": [],
   "source": [
    "import re\n",
    "\n",
    "def mark_maths(n):\n",
    "    c=0\n",
    "    \n",
    "    for i in range(len(n)):\n",
    "        num1=re.findall('(-?\\d+)',n[i])\n",
    "        s=0\n",
    "        for i in num1[:-1]:\n",
    "            s+=int(i)\n",
    "        if s==int(num1[-1]):\n",
    "            c+=1\n",
    "    out=round(c*100/len(n))\n",
    "    return str(out)+'%'"
   ]
  },
  {
   "cell_type": "code",
   "execution_count": 126,
   "id": "3e5ce7ff",
   "metadata": {},
   "outputs": [
    {
     "data": {
      "text/plain": [
       "['1', '-2', '-3032']"
      ]
     },
     "execution_count": 126,
     "metadata": {},
     "output_type": "execute_result"
    }
   ],
   "source": [
    "re.findall( '(-?\\d+)',\"1-2=-3032\")"
   ]
  },
  {
   "cell_type": "code",
   "execution_count": null,
   "id": "a0d6d3d9",
   "metadata": {},
   "outputs": [],
   "source": []
  },
  {
   "cell_type": "code",
   "execution_count": 129,
   "id": "2444c23a",
   "metadata": {},
   "outputs": [
    {
     "data": {
      "text/plain": [
       "'50%'"
      ]
     },
     "execution_count": 129,
     "metadata": {},
     "output_type": "execute_result"
    }
   ],
   "source": [
    "mark_maths([\"2+3=5\", \"4+4=9\", \"3-1=2\",\"1-2=-2\"])"
   ]
  },
  {
   "cell_type": "code",
   "execution_count": 211,
   "id": "9a1ce6eb",
   "metadata": {},
   "outputs": [],
   "source": [
    "def magic_square_game(m,n):\n",
    "    A=[[-1 for i in range(3) ] for j in range(3)]\n",
    "    R=list(m[1])\n",
    "    C=list(n[1])\n",
    "    r=m[0]\n",
    "    c=n[0]\n",
    "    if R[c-1]==C[r-1]:\n",
    "        return True\n",
    "    else:\n",
    "        return False\n",
    "            \n",
    "    "
   ]
  },
  {
   "cell_type": "code",
   "execution_count": 139,
   "id": "dc4fb99f",
   "metadata": {},
   "outputs": [
    {
     "data": {
      "text/plain": [
       "False"
      ]
     },
     "execution_count": 139,
     "metadata": {},
     "output_type": "execute_result"
    }
   ],
   "source": [
    "magic_square_game([2,\"100\"], [1, \"101\"]) "
   ]
  },
  {
   "cell_type": "code",
   "execution_count": 140,
   "id": "95dd003e",
   "metadata": {},
   "outputs": [
    {
     "data": {
      "text/plain": [
       "False"
      ]
     },
     "execution_count": 140,
     "metadata": {},
     "output_type": "execute_result"
    }
   ],
   "source": [
    "magic_square_game([1, \"010\"], [3, \"101\"])"
   ]
  },
  {
   "cell_type": "code",
   "execution_count": 141,
   "id": "0457c4e0",
   "metadata": {},
   "outputs": [
    {
     "data": {
      "text/plain": [
       "True"
      ]
     },
     "execution_count": 141,
     "metadata": {},
     "output_type": "execute_result"
    }
   ],
   "source": [
    "magic_square_game([3, \"111\"], [2, \"011\"])"
   ]
  },
  {
   "cell_type": "code",
   "execution_count": 208,
   "id": "baf0b9d1",
   "metadata": {},
   "outputs": [],
   "source": [
    "def lets_meet(dist, va,vb):\n",
    "    meetingpoint= dist*va/(va+vb)\n",
    "    time=meetingpoint*60*60/va\n",
    "    min, sec = divmod(time, 60)\n",
    "    hour, min = divmod(min, 60)\n",
    "    return \"%d hr %02d min %02d sec\" % (hour, min, sec)\n",
    "    \n",
    "    "
   ]
  },
  {
   "cell_type": "code",
   "execution_count": 209,
   "id": "fb6c1269",
   "metadata": {},
   "outputs": [
    {
     "data": {
      "text/plain": [
       "'2 hr 30 min 00 sec'"
      ]
     },
     "execution_count": 209,
     "metadata": {},
     "output_type": "execute_result"
    }
   ],
   "source": [
    "lets_meet(100,10,30)\n"
   ]
  },
  {
   "cell_type": "code",
   "execution_count": 210,
   "id": "e169de84",
   "metadata": {},
   "outputs": [
    {
     "data": {
      "text/plain": [
       "'0 hr 38 min 34 sec'"
      ]
     },
     "execution_count": 210,
     "metadata": {},
     "output_type": "execute_result"
    }
   ],
   "source": [
    "lets_meet(90, 75, 65)\n",
    "\n"
   ]
  },
  {
   "cell_type": "code",
   "execution_count": null,
   "id": "fd7f8856",
   "metadata": {},
   "outputs": [],
   "source": []
  }
 ],
 "metadata": {
  "kernelspec": {
   "display_name": "Python 3 (ipykernel)",
   "language": "python",
   "name": "python3"
  },
  "language_info": {
   "codemirror_mode": {
    "name": "ipython",
    "version": 3
   },
   "file_extension": ".py",
   "mimetype": "text/x-python",
   "name": "python",
   "nbconvert_exporter": "python",
   "pygments_lexer": "ipython3",
   "version": "3.9.7"
  }
 },
 "nbformat": 4,
 "nbformat_minor": 5
}
