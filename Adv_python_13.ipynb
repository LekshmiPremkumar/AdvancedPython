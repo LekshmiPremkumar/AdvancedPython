{
 "cells": [
  {
   "cell_type": "code",
   "execution_count": 5,
   "id": "e60142c6",
   "metadata": {},
   "outputs": [],
   "source": [
    "def remove_string(n,st):\n",
    "    l=list(st)\n",
    "    y=[]\n",
    "    for i in range(len(n)):\n",
    "        if n[i] not in l:\n",
    "            y.append(n[i])\n",
    "    return y\n",
    "            "
   ]
  },
  {
   "cell_type": "code",
   "execution_count": 7,
   "id": "7f0b169f",
   "metadata": {},
   "outputs": [
    {
     "data": {
      "text/plain": [
       "['p', 'e', 'w']"
      ]
     },
     "execution_count": 7,
     "metadata": {},
     "output_type": "execute_result"
    }
   ],
   "source": [
    "remove_string([\"s\",\"t\",\"p\",\"r\",\"e\",\"i\",\"n\",\"g\",\"w\"],\"string\")"
   ]
  },
  {
   "cell_type": "code",
   "execution_count": 28,
   "id": "2e18f5d7",
   "metadata": {},
   "outputs": [],
   "source": [
    "import re\n",
    "def add_bill(n):\n",
    "    pattern=re.compile(r'[d][0-9]*[0-9]') \n",
    "    matches= pattern.findall(n)\n",
    "    s=0\n",
    "    for i in matches:\n",
    "        #print(i)\n",
    "        s+=int(i[1:])\n",
    "\n",
    "    return s"
   ]
  },
  {
   "cell_type": "code",
   "execution_count": 29,
   "id": "6f246e22",
   "metadata": {},
   "outputs": [
    {
     "data": {
      "text/plain": [
       "170"
      ]
     },
     "execution_count": 29,
     "metadata": {},
     "output_type": "execute_result"
    }
   ],
   "source": [
    "add_bill(\"p30,d20,p60,d150,p360\")"
   ]
  },
  {
   "cell_type": "code",
   "execution_count": 76,
   "id": "894082e0",
   "metadata": {},
   "outputs": [],
   "source": [
    "import numpy as np\n",
    "def flip_list(lis):\n",
    "    n=np.array(lis)\n",
    "    shape=n.shape\n",
    "    if len(shape)==1:\n",
    "        t=[[lis[i]] for i in range(len(lis))]\n",
    "    else:\n",
    "        t=[lis[i][0] for i in range(len(lis))]\n",
    "    return t\n",
    "    "
   ]
  },
  {
   "cell_type": "code",
   "execution_count": 80,
   "id": "f55499bf",
   "metadata": {},
   "outputs": [
    {
     "data": {
      "text/plain": [
       "[5, 6, 9]"
      ]
     },
     "execution_count": 80,
     "metadata": {},
     "output_type": "execute_result"
    }
   ],
   "source": [
    "n=[[5],[6],[9]]\n",
    "flip_list(n)"
   ]
  },
  {
   "cell_type": "code",
   "execution_count": 79,
   "id": "cf5d7d74",
   "metadata": {},
   "outputs": [
    {
     "data": {
      "text/plain": [
       "[[1], [2], [3], [4]]"
      ]
     },
     "execution_count": 79,
     "metadata": {},
     "output_type": "execute_result"
    }
   ],
   "source": [
    "k=[1,2,3,4]\n",
    "flip_list(k)"
   ]
  },
  {
   "cell_type": "code",
   "execution_count": 81,
   "id": "f674f01b",
   "metadata": {},
   "outputs": [
    {
     "data": {
      "text/plain": [
       "[]"
      ]
     },
     "execution_count": 81,
     "metadata": {},
     "output_type": "execute_result"
    }
   ],
   "source": [
    "y=[]\n",
    "flip_list(y)"
   ]
  },
  {
   "cell_type": "code",
   "execution_count": 90,
   "id": "4bff8053",
   "metadata": {},
   "outputs": [],
   "source": [
    "#1--3,2\n",
    "#2--5,3,4\n",
    "#3--5,3,4,3,5\n",
    "#4--5,3,4,3,5,3,6\n",
    "#5--5,3,4,3,5,3,6,3,7\n",
    "\n",
    "def blocks(n):\n",
    "    s=5\n",
    "    for i in range(1,n):\n",
    "        s=s+3+3+i\n",
    "    return s"
   ]
  },
  {
   "cell_type": "code",
   "execution_count": 91,
   "id": "e7dab9dd",
   "metadata": {},
   "outputs": [
    {
     "data": {
      "text/plain": [
       "39"
      ]
     },
     "execution_count": 91,
     "metadata": {},
     "output_type": "execute_result"
    }
   ],
   "source": [
    "blocks(5)"
   ]
  },
  {
   "cell_type": "code",
   "execution_count": 100,
   "id": "8385c0d6",
   "metadata": {},
   "outputs": [],
   "source": [
    "\n"
   ]
  },
  {
   "cell_type": "code",
   "execution_count": null,
   "id": "06cf3b22",
   "metadata": {},
   "outputs": [],
   "source": []
  }
 ],
 "metadata": {
  "kernelspec": {
   "display_name": "Python 3 (ipykernel)",
   "language": "python",
   "name": "python3"
  },
  "language_info": {
   "codemirror_mode": {
    "name": "ipython",
    "version": 3
   },
   "file_extension": ".py",
   "mimetype": "text/x-python",
   "name": "python",
   "nbconvert_exporter": "python",
   "pygments_lexer": "ipython3",
   "version": "3.9.7"
  }
 },
 "nbformat": 4,
 "nbformat_minor": 5
}
