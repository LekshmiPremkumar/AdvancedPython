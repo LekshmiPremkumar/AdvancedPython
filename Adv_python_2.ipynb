{
 "cells": [
  {
   "cell_type": "code",
   "execution_count": 12,
   "id": "46ee743c",
   "metadata": {},
   "outputs": [],
   "source": [
    "#couting no. of points in pentagon\n",
    "def pentagon(n):\n",
    "    s=1\n",
    "    for i in range(1,n):\n",
    "        s+=i*5\n",
    "    return s\n",
    "        "
   ]
  },
  {
   "cell_type": "code",
   "execution_count": 14,
   "id": "713e8efb",
   "metadata": {},
   "outputs": [
    {
     "data": {
      "text/plain": [
       "141"
      ]
     },
     "execution_count": 14,
     "metadata": {},
     "output_type": "execute_result"
    }
   ],
   "source": [
    "pentagon(8)"
   ]
  },
  {
   "cell_type": "code",
   "execution_count": 59,
   "id": "18041798",
   "metadata": {},
   "outputs": [],
   "source": [
    "#reverse and replace with vowels\n",
    "\n",
    "def encrypt(l):\n",
    "    n=list(l)\n",
    "\n",
    "    for i in range(int(len(n)/2)):\n",
    "     \n",
    "        temp=n[i]\n",
    "        n[i]=n[len(n)-i-1]\n",
    "       \n",
    "        n[len(n)-i-1]=temp\n",
    "    d={\"a\":0,\"e\":1,\"i\":2,\"o\":2,\"u\":3}\n",
    "    y=\"\"\n",
    "    for i in range(len(n)):\n",
    "        if n[i] in d:\n",
    "            n[i]=d[n[i]]\n",
    "        y=y+str(n[i])\n",
    "    \n",
    "    return y\n",
    "    \n",
    "    \n",
    "        \n",
    "        "
   ]
  },
  {
   "cell_type": "code",
   "execution_count": 60,
   "id": "16068fc7",
   "metadata": {},
   "outputs": [
    {
     "data": {
      "text/plain": [
       "'1lpp0'"
      ]
     },
     "execution_count": 60,
     "metadata": {},
     "output_type": "execute_result"
    }
   ],
   "source": [
    "encrypt(n)"
   ]
  },
  {
   "cell_type": "code",
   "execution_count": 111,
   "id": "2fa94e97",
   "metadata": {},
   "outputs": [],
   "source": [
    "#checking for 13th friday\n",
    "def hasfriday13(yy,nn):\n",
    "    a=calendar.Calendar()\n",
    "    for item in calendar.Calendar.itermonthdays4(a,yy,nn):\n",
    "        if item[2]==13 and item[3]==4:\n",
    "            return True\n",
    "    return False\n",
    "        \n",
    "    "
   ]
  },
  {
   "cell_type": "code",
   "execution_count": 113,
   "id": "778e8d87",
   "metadata": {},
   "outputs": [
    {
     "data": {
      "text/plain": [
       "False"
      ]
     },
     "execution_count": 113,
     "metadata": {},
     "output_type": "execute_result"
    }
   ],
   "source": [
    "hasfriday13(1985,1)"
   ]
  },
  {
   "cell_type": "code",
   "execution_count": 115,
   "id": "f9638c0a",
   "metadata": {},
   "outputs": [
    {
     "data": {
      "text/plain": [
       "3"
      ]
     },
     "execution_count": 115,
     "metadata": {},
     "output_type": "execute_result"
    }
   ],
   "source": [
    "#searching for an item using regular exp\n",
    "import re\n",
    "lst=[\"bad cookie\",\"good cookie\",\"bad cookie\",\"good cookie\",\"bad cookie\"]\n",
    "pattern=\"bad cookie\"\n",
    "len(re.findall(pattern, (\",\").join(lst)))"
   ]
  },
  {
   "cell_type": "code",
   "execution_count": null,
   "id": "add1542e",
   "metadata": {},
   "outputs": [],
   "source": []
  },
  {
   "cell_type": "code",
   "execution_count": 72,
   "id": "1ff50150",
   "metadata": {},
   "outputs": [],
   "source": [
    "#Pluralize\n",
    "def pluralize(n):\n",
    "    l=[]\n",
    "    for i in range(len(n)):\n",
    "        if n.count(n[i])>1:\n",
    "            l.append(i)\n",
    "    \n",
    "    for i in l:\n",
    "        n[i]=n[i]+\"s\"\n",
    "        \n",
    "    return set(n)\n",
    "            "
   ]
  },
  {
   "cell_type": "code",
   "execution_count": 73,
   "id": "016f490d",
   "metadata": {},
   "outputs": [
    {
     "data": {
      "text/plain": [
       "{'cat', 'cows', 'rats'}"
      ]
     },
     "execution_count": 73,
     "metadata": {},
     "output_type": "execute_result"
    }
   ],
   "source": [
    "n=[\"cow\",\"cow\",\"cat\",\"rat\",\"rat\"]\n",
    "pluralize(n)"
   ]
  },
  {
   "cell_type": "code",
   "execution_count": 74,
   "id": "cab6b552",
   "metadata": {},
   "outputs": [
    {
     "data": {
      "text/plain": [
       "{'cows'}"
      ]
     },
     "execution_count": 74,
     "metadata": {},
     "output_type": "execute_result"
    }
   ],
   "source": [
    "n=[\"cow\",\"cow\"]\n",
    "pluralize(n)"
   ]
  },
  {
   "cell_type": "code",
   "execution_count": null,
   "id": "130d088d",
   "metadata": {},
   "outputs": [],
   "source": []
  }
 ],
 "metadata": {
  "kernelspec": {
   "display_name": "Python 3 (ipykernel)",
   "language": "python",
   "name": "python3"
  },
  "language_info": {
   "codemirror_mode": {
    "name": "ipython",
    "version": 3
   },
   "file_extension": ".py",
   "mimetype": "text/x-python",
   "name": "python",
   "nbconvert_exporter": "python",
   "pygments_lexer": "ipython3",
   "version": "3.9.7"
  }
 },
 "nbformat": 4,
 "nbformat_minor": 5
}
